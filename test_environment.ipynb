{
 "cells": [
  {
   "cell_type": "code",
   "execution_count": 1,
   "metadata": {},
   "outputs": [],
   "source": [
    "from teacher.fuzzy import FuzzyVariable, FuzzyContinuousSet, FuzzyDiscreteSet\n",
    "from teacher.datasets import load_german, load_compas, load_adult\n",
    "import numpy as np"
   ]
  },
  {
   "cell_type": "code",
   "execution_count": 2,
   "metadata": {},
   "outputs": [],
   "source": [
    "from flocalx.rule import Rule, FuzzyRule, NumericAntecedent, CategoricalAntecedent, FuzzyAntecedent, RuleSet, FuzzyRuleSet"
   ]
  },
  {
   "cell_type": "code",
   "execution_count": 3,
   "metadata": {},
   "outputs": [],
   "source": [
    "fs1 = FuzzyContinuousSet(\"low\",[0, 0.5, 1])\n",
    "fs2 = FuzzyContinuousSet(\"medium\",[0.5, 1, 1.5])\n",
    "fs3 = FuzzyContinuousSet(\"high\",[1, 1.5, 2])"
   ]
  },
  {
   "cell_type": "code",
   "execution_count": 4,
   "metadata": {},
   "outputs": [],
   "source": [
    "fv = FuzzyVariable(\"fv\", [fs1, fs2, fs3])"
   ]
  },
  {
   "cell_type": "code",
   "execution_count": 5,
   "metadata": {},
   "outputs": [],
   "source": [
    "a = NumericAntecedent(0, [0, 1])"
   ]
  },
  {
   "cell_type": "code",
   "execution_count": 6,
   "metadata": {},
   "outputs": [],
   "source": [
    "b = CategoricalAntecedent(1, [['red', True]])"
   ]
  },
  {
   "cell_type": "code",
   "execution_count": 7,
   "metadata": {},
   "outputs": [],
   "source": [
    "r = Rule([a, b], 1)"
   ]
  },
  {
   "cell_type": "code",
   "execution_count": 8,
   "metadata": {},
   "outputs": [
    {
     "name": "stdout",
     "output_type": "stream",
     "text": [
      "[0 is [0, 1], 1 is [['red', True]]] -> 1\n"
     ]
    }
   ],
   "source": [
    "print(r)"
   ]
  },
  {
   "cell_type": "code",
   "execution_count": 9,
   "metadata": {},
   "outputs": [],
   "source": [
    "x = [0.5, 'red']"
   ]
  },
  {
   "cell_type": "code",
   "execution_count": 10,
   "metadata": {},
   "outputs": [
    {
     "data": {
      "text/plain": [
       "1"
      ]
     },
     "execution_count": 10,
     "metadata": {},
     "output_type": "execute_result"
    }
   ],
   "source": [
    "r.match(x)"
   ]
  },
  {
   "cell_type": "code",
   "execution_count": 11,
   "metadata": {},
   "outputs": [],
   "source": [
    "c = FuzzyAntecedent(0, fs1)"
   ]
  },
  {
   "cell_type": "code",
   "execution_count": 12,
   "metadata": {},
   "outputs": [
    {
     "data": {
      "text/plain": [
       "0.25"
      ]
     },
     "execution_count": 12,
     "metadata": {},
     "output_type": "execute_result"
    }
   ],
   "source": [
    "r2 = FuzzyRule([c, b], 1, 0.5)\n",
    "x2 = [0.25, 'red']\n",
    "\n",
    "r2.match(x2)"
   ]
  },
  {
   "cell_type": "code",
   "execution_count": 13,
   "metadata": {},
   "outputs": [],
   "source": [
    "import json\n",
    "\n",
    "with open('./data/rulesets/german_dt_test.json', 'r') as f:\n",
    "    ruleset = json.load(f)\n"
   ]
  },
  {
   "cell_type": "code",
   "execution_count": 14,
   "metadata": {},
   "outputs": [],
   "source": [
    "with open('./data/rulesets/crisp/compas_dt.json', 'r') as f:\n",
    "    ruleset = json.load(f)\n",
    "\n",
    "dataset = load_compas()\n",
    "antecedent_order = {v: k for k, v in dataset['idx_features'].items()}\n",
    "dataset_info = {\n",
    "    'antecedent_order': antecedent_order,\n",
    "    'discrete': set(dataset['discrete']),\n",
    "    'continuous': set(dataset['continuous'])\n",
    "}\n",
    "\n",
    "rs = RuleSet.from_json(ruleset, dataset_info)"
   ]
  },
  {
   "cell_type": "code",
   "execution_count": 15,
   "metadata": {},
   "outputs": [],
   "source": [
    "x = dataset['X'][0]"
   ]
  },
  {
   "cell_type": "code",
   "execution_count": 16,
   "metadata": {},
   "outputs": [
    {
     "data": {
      "text/plain": [
       "array([69,  1,  1,  5,  0,  1,  0,  0,  0,  0,  0])"
      ]
     },
     "execution_count": 16,
     "metadata": {},
     "output_type": "execute_result"
    }
   ],
   "source": [
    "x"
   ]
  },
  {
   "cell_type": "code",
   "execution_count": 17,
   "metadata": {},
   "outputs": [
    {
     "data": {
      "text/plain": [
       "[[4 is [-inf, 4.5], 0 is [37.5, inf], 10 is [-inf, 3.5], 3 is [['African-American', False]], 6 is [['charge', False]]] -> Medium-Low]"
      ]
     },
     "execution_count": 17,
     "metadata": {},
     "output_type": "execute_result"
    }
   ],
   "source": [
    "[r for r in rs.rules if r.match(x) > 0]"
   ]
  },
  {
   "cell_type": "code",
   "execution_count": 18,
   "metadata": {},
   "outputs": [
    {
     "data": {
      "text/plain": [
       "1457"
      ]
     },
     "execution_count": 18,
     "metadata": {},
     "output_type": "execute_result"
    }
   ],
   "source": [
    "len(rs.rules)"
   ]
  },
  {
   "cell_type": "code",
   "execution_count": 19,
   "metadata": {},
   "outputs": [
    {
     "data": {
      "text/plain": [
       "1457"
      ]
     },
     "execution_count": 19,
     "metadata": {},
     "output_type": "execute_result"
    }
   ],
   "source": [
    "len(set(rs.rules))"
   ]
  },
  {
   "cell_type": "code",
   "execution_count": 20,
   "metadata": {},
   "outputs": [
    {
     "data": {
      "text/plain": [
       "[[4 is [-inf, 4.5], 0 is [37.5, inf], 10 is [-inf, 3.5], 3 is [['African-American', False]], 6 is [['charge', False]]] -> Medium-Low]"
      ]
     },
     "execution_count": 20,
     "metadata": {},
     "output_type": "execute_result"
    }
   ],
   "source": [
    "[r for r in set(rs.rules) if r.match(x) > 0]"
   ]
  },
  {
   "cell_type": "code",
   "execution_count": 21,
   "metadata": {},
   "outputs": [],
   "source": [
    "y_decoded = dataset['label_encoder'][dataset['class_name']].inverse_transform(dataset['y'][0:100])"
   ]
  },
  {
   "cell_type": "code",
   "execution_count": 22,
   "metadata": {},
   "outputs": [
    {
     "data": {
      "text/plain": [
       "0.73"
      ]
     },
     "execution_count": 22,
     "metadata": {},
     "output_type": "execute_result"
    }
   ],
   "source": [
    "rs.score(dataset['X'][0:100], y_decoded)"
   ]
  },
  {
   "cell_type": "code",
   "execution_count": 23,
   "metadata": {},
   "outputs": [],
   "source": [
    "with open('./data/rulesets/fuzzy/adult_fdt.json', 'r') as f:\n",
    "    ruleset = json.load(f)\n",
    "\n",
    "dataset = load_adult()\n",
    "antecedent_order = {v: k for k, v in dataset['idx_features'].items()}\n",
    "dataset_info = {\n",
    "    'antecedent_order': antecedent_order,\n",
    "    'discrete': set(dataset['discrete']),\n",
    "    'continuous': set(dataset['continuous'])\n",
    "}"
   ]
  },
  {
   "cell_type": "code",
   "execution_count": 24,
   "metadata": {},
   "outputs": [],
   "source": [
    "fuzzy_rule = ruleset[5]"
   ]
  },
  {
   "cell_type": "code",
   "execution_count": 25,
   "metadata": {},
   "outputs": [],
   "source": [
    "fr = FuzzyRule.from_json(fuzzy_rule, dataset_info)"
   ]
  },
  {
   "cell_type": "code",
   "execution_count": 26,
   "metadata": {},
   "outputs": [
    {
     "data": {
      "text/plain": [
       "array([  39,    6,    9,    4,    0,    1,    4,    1, 2174,    0,   40,\n",
       "         38])"
      ]
     },
     "execution_count": 26,
     "metadata": {},
     "output_type": "execute_result"
    }
   ],
   "source": [
    "dataset['X'][0]"
   ]
  },
  {
   "cell_type": "code",
   "execution_count": 27,
   "metadata": {},
   "outputs": [],
   "source": [
    "x = dataset['df'].iloc[0].to_numpy()"
   ]
  },
  {
   "cell_type": "code",
   "execution_count": 28,
   "metadata": {},
   "outputs": [],
   "source": [
    "df = dataset['df']\n",
    "X_df = df.drop(columns=[dataset['class_name']])"
   ]
  },
  {
   "cell_type": "code",
   "execution_count": 29,
   "metadata": {},
   "outputs": [
    {
     "data": {
      "text/plain": [
       "array([39, 'State-gov', 'Bachelors', 'Never-married', 'Adm-clerical',\n",
       "       'Not-in-family', 'White', 'Male', 2174, 0, 40, 'United-States'],\n",
       "      dtype=object)"
      ]
     },
     "execution_count": 29,
     "metadata": {},
     "output_type": "execute_result"
    }
   ],
   "source": [
    "x = X_df.iloc[0].to_numpy()\n",
    "x"
   ]
  },
  {
   "cell_type": "code",
   "execution_count": 30,
   "metadata": {},
   "outputs": [
    {
     "data": {
      "text/plain": [
       "0.0"
      ]
     },
     "execution_count": 30,
     "metadata": {},
     "output_type": "execute_result"
    }
   ],
   "source": [
    "fr.match(x)"
   ]
  },
  {
   "cell_type": "code",
   "execution_count": 31,
   "metadata": {},
   "outputs": [
    {
     "data": {
      "text/plain": [
       "1.0 : [5 is [['Husband', True]], 2 is [['Bachelors', True]], 8 is 0, 4 is [['Craft-repair', True]], 11 is [['United-States', True]], 1 is [['Private', True]], 9 is 0, 6 is [['White', True]], 10 is 1] -> <=50K"
      ]
     },
     "execution_count": 31,
     "metadata": {},
     "output_type": "execute_result"
    }
   ],
   "source": [
    "fr"
   ]
  },
  {
   "cell_type": "code",
   "execution_count": 32,
   "metadata": {},
   "outputs": [],
   "source": [
    "frs = FuzzyRuleSet.from_json(ruleset, dataset_info)"
   ]
  },
  {
   "cell_type": "code",
   "execution_count": 33,
   "metadata": {},
   "outputs": [
    {
     "data": {
      "text/plain": [
       "2591"
      ]
     },
     "execution_count": 33,
     "metadata": {},
     "output_type": "execute_result"
    }
   ],
   "source": [
    "len(frs.rules)"
   ]
  },
  {
   "cell_type": "code",
   "execution_count": 35,
   "metadata": {},
   "outputs": [
    {
     "data": {
      "text/plain": [
       "array([39, 'State-gov', 'Bachelors', 'Never-married', 'Adm-clerical',\n",
       "       'Not-in-family', 'White', 'Male', 2174, 0, 40, 'United-States'],\n",
       "      dtype=object)"
      ]
     },
     "execution_count": 35,
     "metadata": {},
     "output_type": "execute_result"
    }
   ],
   "source": [
    "x"
   ]
  },
  {
   "cell_type": "code",
   "execution_count": 37,
   "metadata": {},
   "outputs": [
    {
     "data": {
      "text/plain": [
       "['<=50K',\n",
       " '>50K',\n",
       " '<=50K',\n",
       " '<=50K',\n",
       " '<=50K',\n",
       " '<=50K',\n",
       " '<=50K',\n",
       " '<=50K',\n",
       " '<=50K',\n",
       " '<=50K',\n",
       " '<=50K',\n",
       " '<=50K',\n",
       " '<=50K',\n",
       " '<=50K',\n",
       " '<=50K',\n",
       " '<=50K',\n",
       " '<=50K',\n",
       " '<=50K',\n",
       " '<=50K',\n",
       " '<=50K',\n",
       " '<=50K',\n",
       " '<=50K',\n",
       " '<=50K',\n",
       " '<=50K',\n",
       " '<=50K',\n",
       " '<=50K',\n",
       " '<=50K',\n",
       " '<=50K',\n",
       " '<=50K',\n",
       " '<=50K',\n",
       " '<=50K',\n",
       " '<=50K',\n",
       " '<=50K',\n",
       " '<=50K',\n",
       " '<=50K',\n",
       " '<=50K',\n",
       " '<=50K',\n",
       " '<=50K',\n",
       " '<=50K',\n",
       " '<=50K',\n",
       " '<=50K',\n",
       " '<=50K',\n",
       " '<=50K',\n",
       " '<=50K',\n",
       " '<=50K',\n",
       " '<=50K',\n",
       " '<=50K',\n",
       " '<=50K',\n",
       " '<=50K',\n",
       " '<=50K',\n",
       " '<=50K',\n",
       " '<=50K',\n",
       " '<=50K',\n",
       " '<=50K',\n",
       " '<=50K',\n",
       " '<=50K',\n",
       " '<=50K',\n",
       " '<=50K',\n",
       " '<=50K',\n",
       " '<=50K',\n",
       " '<=50K',\n",
       " '<=50K',\n",
       " '<=50K',\n",
       " '<=50K',\n",
       " '<=50K',\n",
       " '<=50K',\n",
       " '<=50K',\n",
       " '<=50K',\n",
       " '<=50K',\n",
       " '<=50K',\n",
       " '<=50K',\n",
       " '<=50K',\n",
       " '<=50K',\n",
       " '<=50K',\n",
       " '<=50K',\n",
       " '<=50K',\n",
       " '<=50K',\n",
       " '<=50K',\n",
       " '<=50K',\n",
       " '<=50K',\n",
       " '<=50K',\n",
       " '<=50K',\n",
       " '<=50K',\n",
       " '<=50K',\n",
       " '<=50K',\n",
       " '<=50K',\n",
       " '<=50K',\n",
       " '<=50K',\n",
       " '<=50K',\n",
       " '<=50K',\n",
       " '<=50K',\n",
       " '<=50K',\n",
       " '<=50K',\n",
       " '<=50K',\n",
       " '<=50K',\n",
       " '<=50K',\n",
       " '<=50K',\n",
       " '<=50K',\n",
       " '<=50K',\n",
       " '<=50K']"
      ]
     },
     "execution_count": 37,
     "metadata": {},
     "output_type": "execute_result"
    }
   ],
   "source": [
    "frs.predict(X_df.iloc[0:100].to_numpy())"
   ]
  },
  {
   "cell_type": "code",
   "execution_count": 38,
   "metadata": {},
   "outputs": [],
   "source": [
    "y_decoded = dataset['label_encoder'][dataset['class_name']].inverse_transform(dataset['y'][0:100])"
   ]
  },
  {
   "cell_type": "code",
   "execution_count": 39,
   "metadata": {},
   "outputs": [
    {
     "data": {
      "text/plain": [
       "0.61"
      ]
     },
     "execution_count": 39,
     "metadata": {},
     "output_type": "execute_result"
    }
   ],
   "source": [
    "frs.score(X_df.iloc[0:100].to_numpy(), y_decoded)"
   ]
  }
 ],
 "metadata": {
  "kernelspec": {
   "display_name": ".venv",
   "language": "python",
   "name": "python3"
  },
  "language_info": {
   "codemirror_mode": {
    "name": "ipython",
    "version": 3
   },
   "file_extension": ".py",
   "mimetype": "text/x-python",
   "name": "python",
   "nbconvert_exporter": "python",
   "pygments_lexer": "ipython3",
   "version": "3.10.9"
  },
  "orig_nbformat": 4
 },
 "nbformat": 4,
 "nbformat_minor": 2
}
