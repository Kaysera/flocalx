{
 "cells": [
  {
   "cell_type": "code",
   "execution_count": 41,
   "metadata": {},
   "outputs": [],
   "source": [
    "from teacher.fuzzy import FuzzyVariable, FuzzyContinuousSet, FuzzyDiscreteSet\n",
    "from teacher.datasets import load_german, load_compas, load_adult, load_heloc\n",
    "import numpy as np\n",
    "import json\n",
    "import copy\n",
    "import random\n",
    "from sklearn.model_selection import train_test_split\n",
    "from teacher.fuzzy import get_fuzzy_points, get_fuzzy_variables\n"
   ]
  },
  {
   "cell_type": "code",
   "execution_count": 18,
   "metadata": {},
   "outputs": [],
   "source": [
    "random.seed(42)\n",
    "np.random.seed(42)"
   ]
  },
  {
   "cell_type": "code",
   "execution_count": 19,
   "metadata": {},
   "outputs": [],
   "source": [
    "from flocalx.rule import Rule, FuzzyRule, NumericAntecedent, CategoricalAntecedent, FuzzyAntecedent, RuleSet, FuzzyRuleSet, FLocalX"
   ]
  },
  {
   "cell_type": "code",
   "execution_count": 20,
   "metadata": {},
   "outputs": [],
   "source": [
    "DATASETS = {\n",
    "    'adult': load_adult,\n",
    "    'compas': load_compas,\n",
    "    'german': load_german,\n",
    "    'fico': load_heloc\n",
    "}"
   ]
  },
  {
   "cell_type": "code",
   "execution_count": 21,
   "metadata": {},
   "outputs": [],
   "source": [
    "fs1 = FuzzyContinuousSet(\"low\",[0, 0.5, 1])\n",
    "fs2 = FuzzyContinuousSet(\"medium\",[0.5, 1, 1.5])\n",
    "fs3 = FuzzyContinuousSet(\"high\",[1, 1.5, 2])"
   ]
  },
  {
   "cell_type": "code",
   "execution_count": 22,
   "metadata": {},
   "outputs": [],
   "source": [
    "fv = FuzzyVariable(\"fv\", [fs1, fs2, fs3])"
   ]
  },
  {
   "cell_type": "code",
   "execution_count": 23,
   "metadata": {},
   "outputs": [],
   "source": [
    "a = NumericAntecedent(0, [0, 1])"
   ]
  },
  {
   "cell_type": "code",
   "execution_count": 24,
   "metadata": {},
   "outputs": [],
   "source": [
    "b = CategoricalAntecedent(1, [['red', True]])"
   ]
  },
  {
   "cell_type": "code",
   "execution_count": 25,
   "metadata": {},
   "outputs": [],
   "source": [
    "r = Rule([a, b], 1)"
   ]
  },
  {
   "cell_type": "code",
   "execution_count": 26,
   "metadata": {},
   "outputs": [
    {
     "name": "stdout",
     "output_type": "stream",
     "text": [
      "[0 is [0, 1], 1 is [['red', True]]] -> 1\n"
     ]
    }
   ],
   "source": [
    "print(r)"
   ]
  },
  {
   "cell_type": "code",
   "execution_count": 27,
   "metadata": {},
   "outputs": [],
   "source": [
    "x = [0.5, 'red']"
   ]
  },
  {
   "cell_type": "code",
   "execution_count": 28,
   "metadata": {},
   "outputs": [
    {
     "data": {
      "text/plain": [
       "1"
      ]
     },
     "execution_count": 28,
     "metadata": {},
     "output_type": "execute_result"
    }
   ],
   "source": [
    "r.match(x)"
   ]
  },
  {
   "cell_type": "code",
   "execution_count": 29,
   "metadata": {},
   "outputs": [],
   "source": [
    "c = FuzzyAntecedent(0, fs1)"
   ]
  },
  {
   "cell_type": "code",
   "execution_count": 30,
   "metadata": {},
   "outputs": [
    {
     "data": {
      "text/plain": [
       "0.25"
      ]
     },
     "execution_count": 30,
     "metadata": {},
     "output_type": "execute_result"
    }
   ],
   "source": [
    "r2 = FuzzyRule([c, b], 1, 0.5)\n",
    "x2 = [0.25, 'red']\n",
    "\n",
    "r2.match(x2)"
   ]
  },
  {
   "cell_type": "code",
   "execution_count": 31,
   "metadata": {},
   "outputs": [],
   "source": [
    "db = 'adult'\n",
    "method = 'flare_NN'\n",
    "operators = ['similar_rule_fusion']\n",
    "n_explanations = 1000\n",
    "\n",
    "folder = 'data'\n",
    "# list all files in folder\n",
    "\n",
    "from os import listdir\n",
    "from os.path import isfile, join\n",
    "my_path = './data/rulesets/fuzzy/'\n",
    "onlyfiles = [f for f in listdir(my_path) if isfile(join(my_path, f)) and db in f and method in f]"
   ]
  },
  {
   "cell_type": "code",
   "execution_count": 32,
   "metadata": {},
   "outputs": [
    {
     "data": {
      "text/plain": [
       "['adult_flare_NN_13640.json',\n",
       " 'adult_flare_NN_13210.json',\n",
       " 'adult_flare_NN_9490.json',\n",
       " 'adult_flare_NN_20120.json',\n",
       " 'adult_flare_NN_20570.json',\n",
       " 'adult_flare_NN_24860.json',\n",
       " 'adult_flare_NN_6620.json',\n",
       " 'adult_flare_NN_6270.json',\n",
       " 'adult_flare_NN_14490.json',\n",
       " 'adult_flare_NN_10980.json',\n",
       " 'adult_flare_NN_18260.json',\n",
       " 'adult_flare_NN_10650.json',\n",
       " 'adult_flare_NN_18630.json',\n",
       " 'adult_flare_NN_10200.json',\n",
       " 'adult_flare_NN_23130.json',\n",
       " 'adult_flare_NN_23560.json',\n",
       " 'adult_flare_NN_5630.json',\n",
       " 'adult_flare_NN_5260.json',\n",
       " 'adult_flare_NN_630.json',\n",
       " 'adult_flare_NN_260.json',\n",
       " 'adult_flare_NN_13990.json',\n",
       " 'adult_flare_NN_17480.json',\n",
       " 'adult_flare_NN_3160.json',\n",
       " 'adult_flare_NN_3530.json',\n",
       " 'adult_flare_NN_7820.json',\n",
       " 'adult_flare_NN_11780.json',\n",
       " 'adult_flare_NN_16100.json',\n",
       " 'adult_flare_NN_16550.json',\n",
       " 'adult_flare_NN_12840.json',\n",
       " 'adult_flare_NN_25660.json',\n",
       " 'adult_flare_NN_25230.json',\n",
       " 'adult_flare_NN_8540.json',\n",
       " 'adult_flare_NN_4830.json',\n",
       " 'adult_flare_NN_8110.json',\n",
       " 'adult_flare_NN_12790.json',\n",
       " 'adult_flare_NN_19830.json',\n",
       " 'adult_flare_NN_15110.json',\n",
       " 'adult_flare_NN_11850.json',\n",
       " 'adult_flare_NN_15540.json',\n",
       " 'adult_flare_NN_21770.json',\n",
       " 'adult_flare_NN_21320.json',\n",
       " 'adult_flare_NN_8690.json',\n",
       " 'adult_flare_NN_12010.json',\n",
       " 'adult_flare_NN_16950.json',\n",
       " 'adult_flare_NN_12440.json',\n",
       " 'adult_flare_NN_15690.json',\n",
       " 'adult_flare_NN_7070.json',\n",
       " 'adult_flare_NN_3930.json',\n",
       " 'adult_flare_NN_7420.json',\n",
       " 'adult_flare_NN_22760.json',\n",
       " 'adult_flare_NN_22330.json',\n",
       " 'adult_flare_NN_11000.json',\n",
       " 'adult_flare_NN_19430.json',\n",
       " 'adult_flare_NN_11450.json',\n",
       " 'adult_flare_NN_19060.json',\n",
       " 'adult_flare_NN_15940.json',\n",
       " 'adult_flare_NN_16680.json',\n",
       " 'adult_flare_NN_4060.json',\n",
       " 'adult_flare_NN_8940.json',\n",
       " 'adult_flare_NN_4430.json',\n",
       " 'adult_flare_NN_14890.json',\n",
       " 'adult_flare_NN_10580.json',\n",
       " 'adult_flare_NN_2730.json',\n",
       " 'adult_flare_NN_2360.json',\n",
       " 'adult_flare_NN_9890.json',\n",
       " 'adult_flare_NN_24030.json',\n",
       " 'adult_flare_NN_20970.json',\n",
       " 'adult_flare_NN_24460.json',\n",
       " 'adult_flare_NN_17750.json',\n",
       " 'adult_flare_NN_17300.json',\n",
       " 'adult_flare_NN_13590.json',\n",
       " 'adult_flare_NN_17880.json',\n",
       " 'adult_flare_NN_1720.json',\n",
       " 'adult_flare_NN_9310.json',\n",
       " 'adult_flare_NN_1370.json',\n",
       " 'adult_flare_NN_9740.json',\n",
       " 'adult_flare_NN_23960.json',\n",
       " 'adult_flare_NN_14740.json',\n",
       " 'adult_flare_NN_14310.json',\n",
       " 'adult_flare_NN_16090.json',\n",
       " 'adult_flare_NN_4220.json',\n",
       " 'adult_flare_NN_4670.json',\n",
       " 'adult_flare_NN_22520.json',\n",
       " 'adult_flare_NN_22170.json',\n",
       " 'adult_flare_NN_11240.json',\n",
       " 'adult_flare_NN_19670.json',\n",
       " 'adult_flare_NN_11610.json',\n",
       " 'adult_flare_NN_19220.json',\n",
       " 'adult_flare_NN_15080.json',\n",
       " 'adult_flare_NN_7230.json',\n",
       " 'adult_flare_NN_7660.json',\n",
       " 'adult_flare_NN_21530.json',\n",
       " 'adult_flare_NN_8080.json',\n",
       " 'adult_flare_NN_25820.json',\n",
       " 'adult_flare_NN_21160.json',\n",
       " 'adult_flare_NN_12250.json',\n",
       " 'adult_flare_NN_12600.json',\n",
       " 'adult_flare_NN_10810.json',\n",
       " 'adult_flare_NN_14500.json',\n",
       " 'adult_flare_NN_18870.json',\n",
       " 'adult_flare_NN_14150.json',\n",
       " 'adult_flare_NN_870.json',\n",
       " 'adult_flare_NN_13380.json',\n",
       " 'adult_flare_NN_5870.json',\n",
       " 'adult_flare_NN_1560.json',\n",
       " 'adult_flare_NN_9150.json',\n",
       " 'adult_flare_NN_1130.json',\n",
       " 'adult_flare_NN_9500.json',\n",
       " 'adult_flare_NN_24270.json',\n",
       " 'adult_flare_NN_24620.json',\n",
       " 'adult_flare_NN_17510.json',\n",
       " 'adult_flare_NN_13800.json',\n",
       " 'adult_flare_NN_17140.json',\n",
       " 'adult_flare_NN_10390.json',\n",
       " 'adult_flare_NN_2570.json',\n",
       " 'adult_flare_NN_6860.json',\n",
       " 'adult_flare_NN_2120.json',\n",
       " 'adult_flare_NN_5470.json',\n",
       " 'adult_flare_NN_1960.json',\n",
       " 'adult_flare_NN_5020.json',\n",
       " 'adult_flare_NN_9900.json',\n",
       " 'adult_flare_NN_470.json',\n",
       " 'adult_flare_NN_17290.json',\n",
       " 'adult_flare_NN_18020.json',\n",
       " 'adult_flare_NN_10410.json',\n",
       " 'adult_flare_NN_14900.json',\n",
       " 'adult_flare_NN_18470.json',\n",
       " 'adult_flare_NN_10040.json',\n",
       " 'adult_flare_NN_23370.json',\n",
       " 'adult_flare_NN_23720.json',\n",
       " 'adult_flare_NN_2970.json',\n",
       " 'adult_flare_NN_6460.json',\n",
       " 'adult_flare_NN_6030.json',\n",
       " 'adult_flare_NN_14280.json',\n",
       " 'adult_flare_NN_70.json',\n",
       " 'adult_flare_NN_17910.json',\n",
       " 'adult_flare_NN_13400.json',\n",
       " 'adult_flare_NN_13050.json',\n",
       " 'adult_flare_NN_20360.json',\n",
       " 'adult_flare_NN_9280.json',\n",
       " 'adult_flare_NN_20730.json',\n",
       " 'adult_flare_NN_15350.json',\n",
       " 'adult_flare_NN_15700.json',\n",
       " 'adult_flare_NN_22920.json',\n",
       " 'adult_flare_NN_8700.json',\n",
       " 'adult_flare_NN_8350.json',\n",
       " 'adult_flare_NN_12180.json',\n",
       " 'adult_flare_NN_16340.json',\n",
       " 'adult_flare_NN_16710.json',\n",
       " 'adult_flare_NN_21930.json',\n",
       " 'adult_flare_NN_25420.json',\n",
       " 'adult_flare_NN_25070.json',\n",
       " 'adult_flare_NN_3320.json',\n",
       " 'adult_flare_NN_3770.json',\n",
       " 'adult_flare_NN_11190.json',\n",
       " 'adult_flare_NN_50.json',\n",
       " 'adult_flare_NN_17930.json',\n",
       " 'adult_flare_NN_13420.json',\n",
       " 'adult_flare_NN_13070.json',\n",
       " 'adult_flare_NN_20340.json',\n",
       " 'adult_flare_NN_20710.json',\n",
       " 'adult_flare_NN_1690.json',\n",
       " 'adult_flare_NN_2950.json',\n",
       " 'adult_flare_NN_6440.json',\n",
       " 'adult_flare_NN_6010.json',\n",
       " 'adult_flare_NN_18000.json',\n",
       " 'adult_flare_NN_10430.json',\n",
       " 'adult_flare_NN_14920.json',\n",
       " 'adult_flare_NN_18450.json',\n",
       " 'adult_flare_NN_10060.json',\n",
       " 'adult_flare_NN_23350.json',\n",
       " 'adult_flare_NN_2680.json',\n",
       " 'adult_flare_NN_23700.json',\n",
       " 'adult_flare_NN_5450.json',\n",
       " 'adult_flare_NN_1940.json',\n",
       " 'adult_flare_NN_5000.json',\n",
       " 'adult_flare_NN_24180.json',\n",
       " 'adult_flare_NN_9920.json',\n",
       " 'adult_flare_NN_450.json',\n",
       " 'adult_flare_NN_3300.json',\n",
       " 'adult_flare_NN_22280.json',\n",
       " 'adult_flare_NN_3750.json',\n",
       " 'adult_flare_NN_19580.json',\n",
       " 'adult_flare_NN_16360.json',\n",
       " 'adult_flare_NN_16730.json',\n",
       " 'adult_flare_NN_21910.json',\n",
       " 'adult_flare_NN_4580.json',\n",
       " 'adult_flare_NN_25400.json',\n",
       " 'adult_flare_NN_25050.json',\n",
       " 'adult_flare_NN_8720.json',\n",
       " 'adult_flare_NN_21290.json',\n",
       " 'adult_flare_NN_8370.json',\n",
       " 'adult_flare_NN_15370.json',\n",
       " 'adult_flare_NN_15720.json',\n",
       " 'adult_flare_NN_7590.json',\n",
       " 'adult_flare_NN_22900.json',\n",
       " 'adult_flare_NN_3880.json',\n",
       " 'adult_flare_NN_26040.json',\n",
       " 'adult_flare_NN_21510.json',\n",
       " 'adult_flare_NN_25800.json',\n",
       " 'adult_flare_NN_4980.json',\n",
       " 'adult_flare_NN_21140.json',\n",
       " 'adult_flare_NN_12270.json',\n",
       " 'adult_flare_NN_12620.json',\n",
       " 'adult_flare_NN_19980.json',\n",
       " 'adult_flare_NN_7210.json',\n",
       " 'adult_flare_NN_7640.json',\n",
       " 'adult_flare_NN_7990.json',\n",
       " 'adult_flare_NN_3480.json',\n",
       " 'adult_flare_NN_22500.json',\n",
       " 'adult_flare_NN_22150.json',\n",
       " 'adult_flare_NN_11260.json',\n",
       " 'adult_flare_NN_19650.json',\n",
       " 'adult_flare_NN_11630.json',\n",
       " 'adult_flare_NN_19200.json',\n",
       " 'adult_flare_NN_4200.json',\n",
       " 'adult_flare_NN_25380.json',\n",
       " 'adult_flare_NN_4650.json',\n",
       " 'adult_flare_NN_18780.json',\n",
       " 'adult_flare_NN_2550.json',\n",
       " 'adult_flare_NN_6840.json',\n",
       " 'adult_flare_NN_2100.json',\n",
       " 'adult_flare_NN_23080.json',\n",
       " 'adult_flare_NN_24250.json',\n",
       " 'adult_flare_NN_5780.json',\n",
       " 'adult_flare_NN_24600.json',\n",
       " 'adult_flare_NN_17530.json',\n",
       " 'adult_flare_NN_13820.json',\n",
       " 'adult_flare_NN_17160.json',\n",
       " 'adult_flare_NN_780.json',\n",
       " 'adult_flare_NN_850.json',\n",
       " 'adult_flare_NN_5850.json',\n",
       " 'adult_flare_NN_1540.json',\n",
       " 'adult_flare_NN_9170.json',\n",
       " 'adult_flare_NN_20090.json',\n",
       " 'adult_flare_NN_1110.json',\n",
       " 'adult_flare_NN_9520.json',\n",
       " 'adult_flare_NN_6790.json',\n",
       " 'adult_flare_NN_10830.json',\n",
       " 'adult_flare_NN_14520.json',\n",
       " 'adult_flare_NN_18850.json',\n",
       " 'adult_flare_NN_14170.json',\n",
       " 'adult_flare_NN_4040.json',\n",
       " 'adult_flare_NN_8960.json',\n",
       " 'adult_flare_NN_25590.json',\n",
       " 'adult_flare_NN_4410.json',\n",
       " 'adult_flare_NN_21880.json',\n",
       " 'adult_flare_NN_22740.json',\n",
       " 'adult_flare_NN_22310.json',\n",
       " 'adult_flare_NN_3290.json',\n",
       " 'adult_flare_NN_11020.json',\n",
       " 'adult_flare_NN_19410.json',\n",
       " 'adult_flare_NN_11470.json',\n",
       " 'adult_flare_NN_19040.json',\n",
       " 'adult_flare_NN_15960.json',\n",
       " 'adult_flare_NN_7050.json',\n",
       " 'adult_flare_NN_3910.json',\n",
       " 'adult_flare_NN_22890.json',\n",
       " 'adult_flare_NN_7400.json',\n",
       " 'adult_flare_NN_21750.json',\n",
       " 'adult_flare_NN_21300.json',\n",
       " 'adult_flare_NN_12030.json',\n",
       " 'adult_flare_NN_16970.json',\n",
       " 'adult_flare_NN_12460.json',\n",
       " 'adult_flare_NN_6180.json',\n",
       " 'adult_flare_NN_23940.json',\n",
       " 'adult_flare_NN_14760.json',\n",
       " 'adult_flare_NN_14330.json',\n",
       " 'adult_flare_NN_1700.json',\n",
       " 'adult_flare_NN_20680.json',\n",
       " 'adult_flare_NN_9330.json',\n",
       " 'adult_flare_NN_1350.json',\n",
       " 'adult_flare_NN_9760.json',\n",
       " 'adult_flare_NN_24010.json',\n",
       " 'adult_flare_NN_5190.json',\n",
       " 'adult_flare_NN_20950.json',\n",
       " 'adult_flare_NN_24440.json',\n",
       " 'adult_flare_NN_17770.json',\n",
       " 'adult_flare_NN_190.json',\n",
       " 'adult_flare_NN_17320.json',\n",
       " 'adult_flare_NN_18190.json',\n",
       " 'adult_flare_NN_23690.json',\n",
       " 'adult_flare_NN_2710.json',\n",
       " 'adult_flare_NN_2340.json',\n",
       " 'adult_flare_NN_24790.json',\n",
       " 'adult_flare_NN_5610.json',\n",
       " 'adult_flare_NN_5240.json',\n",
       " 'adult_flare_NN_610.json',\n",
       " 'adult_flare_NN_240.json',\n",
       " 'adult_flare_NN_18240.json',\n",
       " 'adult_flare_NN_10670.json',\n",
       " 'adult_flare_NN_18610.json',\n",
       " 'adult_flare_NN_10220.json',\n",
       " 'adult_flare_NN_23110.json',\n",
       " 'adult_flare_NN_2090.json',\n",
       " 'adult_flare_NN_23540.json',\n",
       " 'adult_flare_NN_6600.json',\n",
       " 'adult_flare_NN_6250.json',\n",
       " 'adult_flare_NN_13660.json',\n",
       " 'adult_flare_NN_13230.json',\n",
       " 'adult_flare_NN_1080.json',\n",
       " 'adult_flare_NN_20100.json',\n",
       " 'adult_flare_NN_20550.json',\n",
       " 'adult_flare_NN_24840.json',\n",
       " 'adult_flare_NN_19810.json',\n",
       " 'adult_flare_NN_15130.json',\n",
       " 'adult_flare_NN_11870.json',\n",
       " 'adult_flare_NN_15560.json',\n",
       " 'adult_flare_NN_7380.json',\n",
       " 'adult_flare_NN_8560.json',\n",
       " 'adult_flare_NN_4810.json',\n",
       " 'adult_flare_NN_25990.json',\n",
       " 'adult_flare_NN_8130.json',\n",
       " 'adult_flare_NN_21480.json',\n",
       " 'adult_flare_NN_16120.json',\n",
       " 'adult_flare_NN_16570.json',\n",
       " 'adult_flare_NN_12860.json',\n",
       " 'adult_flare_NN_25640.json',\n",
       " 'adult_flare_NN_25210.json',\n",
       " 'adult_flare_NN_4390.json',\n",
       " 'adult_flare_NN_3140.json',\n",
       " 'adult_flare_NN_22490.json',\n",
       " 'adult_flare_NN_3510.json',\n",
       " 'adult_flare_NN_7800.json',\n",
       " 'adult_flare_NN_19390.json',\n",
       " 'adult_flare_NN_24050.json',\n",
       " 'adult_flare_NN_20910.json',\n",
       " 'adult_flare_NN_1890.json',\n",
       " 'adult_flare_NN_24400.json',\n",
       " 'adult_flare_NN_5580.json',\n",
       " 'adult_flare_NN_17730.json',\n",
       " 'adult_flare_NN_17360.json',\n",
       " 'adult_flare_NN_580.json',\n",
       " 'adult_flare_NN_18580.json',\n",
       " 'adult_flare_NN_2750.json',\n",
       " 'adult_flare_NN_23280.json',\n",
       " 'adult_flare_NN_2300.json',\n",
       " 'adult_flare_NN_6590.json',\n",
       " 'adult_flare_NN_2880.json',\n",
       " 'adult_flare_NN_23900.json',\n",
       " 'adult_flare_NN_14720.json',\n",
       " 'adult_flare_NN_14370.json',\n",
       " 'adult_flare_NN_1740.json',\n",
       " 'adult_flare_NN_9370.json',\n",
       " 'adult_flare_NN_1310.json',\n",
       " 'adult_flare_NN_20290.json',\n",
       " 'adult_flare_NN_9720.json',\n",
       " 'adult_flare_NN_7010.json',\n",
       " 'adult_flare_NN_3950.json',\n",
       " 'adult_flare_NN_7440.json',\n",
       " 'adult_flare_NN_21710.json',\n",
       " 'adult_flare_NN_21340.json',\n",
       " 'adult_flare_NN_12070.json',\n",
       " 'adult_flare_NN_16930.json',\n",
       " 'adult_flare_NN_12420.json',\n",
       " 'adult_flare_NN_25180.json',\n",
       " 'adult_flare_NN_4000.json',\n",
       " 'adult_flare_NN_8920.json',\n",
       " 'adult_flare_NN_4450.json',\n",
       " 'adult_flare_NN_22700.json',\n",
       " 'adult_flare_NN_3680.json',\n",
       " 'adult_flare_NN_22350.json',\n",
       " 'adult_flare_NN_11060.json',\n",
       " 'adult_flare_NN_19450.json',\n",
       " 'adult_flare_NN_11430.json',\n",
       " 'adult_flare_NN_19000.json',\n",
       " 'adult_flare_NN_15920.json',\n",
       " 'adult_flare_NN_16160.json',\n",
       " 'adult_flare_NN_16530.json',\n",
       " 'adult_flare_NN_12820.json',\n",
       " 'adult_flare_NN_25600.json',\n",
       " 'adult_flare_NN_4780.json',\n",
       " 'adult_flare_NN_25250.json',\n",
       " 'adult_flare_NN_22080.json',\n",
       " 'adult_flare_NN_3100.json',\n",
       " 'adult_flare_NN_3550.json',\n",
       " 'adult_flare_NN_7840.json',\n",
       " 'adult_flare_NN_19780.json',\n",
       " 'adult_flare_NN_19850.json',\n",
       " 'adult_flare_NN_15170.json',\n",
       " 'adult_flare_NN_11830.json',\n",
       " 'adult_flare_NN_15520.json',\n",
       " 'adult_flare_NN_7790.json',\n",
       " 'adult_flare_NN_8520.json',\n",
       " 'adult_flare_NN_21090.json',\n",
       " 'adult_flare_NN_4850.json',\n",
       " 'adult_flare_NN_8170.json',\n",
       " 'adult_flare_NN_6640.json',\n",
       " 'adult_flare_NN_6210.json',\n",
       " 'adult_flare_NN_18980.json',\n",
       " 'adult_flare_NN_13620.json',\n",
       " 'adult_flare_NN_980.json',\n",
       " 'adult_flare_NN_13270.json',\n",
       " 'adult_flare_NN_20140.json',\n",
       " 'adult_flare_NN_1490.json',\n",
       " 'adult_flare_NN_20510.json',\n",
       " 'adult_flare_NN_5980.json',\n",
       " 'adult_flare_NN_24800.json',\n",
       " 'adult_flare_NN_5650.json',\n",
       " 'adult_flare_NN_24380.json',\n",
       " 'adult_flare_NN_5200.json',\n",
       " 'adult_flare_NN_650.json',\n",
       " 'adult_flare_NN_200.json',\n",
       " 'adult_flare_NN_18200.json',\n",
       " 'adult_flare_NN_10630.json',\n",
       " 'adult_flare_NN_18650.json',\n",
       " 'adult_flare_NN_10260.json',\n",
       " 'adult_flare_NN_23150.json',\n",
       " 'adult_flare_NN_6990.json',\n",
       " 'adult_flare_NN_23500.json',\n",
       " 'adult_flare_NN_2480.json',\n",
       " 'adult_flare_NN_8760.json',\n",
       " 'adult_flare_NN_8330.json',\n",
       " 'adult_flare_NN_21680.json',\n",
       " 'adult_flare_NN_15330.json',\n",
       " 'adult_flare_NN_15760.json',\n",
       " 'adult_flare_NN_22940.json',\n",
       " 'adult_flare_NN_26000.json',\n",
       " 'adult_flare_NN_7180.json',\n",
       " 'adult_flare_NN_3340.json',\n",
       " 'adult_flare_NN_3710.json',\n",
       " 'adult_flare_NN_22690.json',\n",
       " 'adult_flare_NN_19190.json',\n",
       " 'adult_flare_NN_16320.json',\n",
       " 'adult_flare_NN_16770.json',\n",
       " 'adult_flare_NN_21950.json',\n",
       " 'adult_flare_NN_25440.json',\n",
       " 'adult_flare_NN_4190.json',\n",
       " 'adult_flare_NN_25010.json',\n",
       " 'adult_flare_NN_18040.json',\n",
       " 'adult_flare_NN_10470.json',\n",
       " 'adult_flare_NN_14960.json',\n",
       " 'adult_flare_NN_18410.json',\n",
       " 'adult_flare_NN_10020.json',\n",
       " 'adult_flare_NN_2290.json',\n",
       " 'adult_flare_NN_23310.json',\n",
       " 'adult_flare_NN_23740.json',\n",
       " 'adult_flare_NN_5410.json',\n",
       " 'adult_flare_NN_24590.json',\n",
       " 'adult_flare_NN_1900.json',\n",
       " 'adult_flare_NN_20880.json',\n",
       " 'adult_flare_NN_5040.json',\n",
       " 'adult_flare_NN_9960.json',\n",
       " 'adult_flare_NN_410.json',\n",
       " 'adult_flare_NN_17970.json',\n",
       " 'adult_flare_NN_10.json',\n",
       " 'adult_flare_NN_13460.json',\n",
       " 'adult_flare_NN_13030.json',\n",
       " 'adult_flare_NN_20300.json',\n",
       " 'adult_flare_NN_1280.json',\n",
       " 'adult_flare_NN_20750.json',\n",
       " 'adult_flare_NN_23890.json',\n",
       " 'adult_flare_NN_2910.json',\n",
       " 'adult_flare_NN_6400.json',\n",
       " 'adult_flare_NN_6050.json',\n",
       " 'adult_flare_NN_810.json',\n",
       " 'adult_flare_NN_24990.json',\n",
       " 'adult_flare_NN_5810.json',\n",
       " 'adult_flare_NN_20480.json',\n",
       " 'adult_flare_NN_1500.json',\n",
       " 'adult_flare_NN_9130.json',\n",
       " 'adult_flare_NN_1150.json',\n",
       " 'adult_flare_NN_9560.json',\n",
       " 'adult_flare_NN_6380.json',\n",
       " 'adult_flare_NN_10870.json',\n",
       " 'adult_flare_NN_14560.json',\n",
       " 'adult_flare_NN_18810.json',\n",
       " 'adult_flare_NN_14130.json',\n",
       " 'adult_flare_NN_18390.json',\n",
       " 'adult_flare_NN_2510.json',\n",
       " 'adult_flare_NN_23490.json',\n",
       " 'adult_flare_NN_6800.json',\n",
       " 'adult_flare_NN_2140.json',\n",
       " 'adult_flare_NN_5390.json',\n",
       " 'adult_flare_NN_24210.json',\n",
       " 'adult_flare_NN_24640.json',\n",
       " 'adult_flare_NN_17570.json',\n",
       " 'adult_flare_NN_390.json',\n",
       " 'adult_flare_NN_13860.json',\n",
       " 'adult_flare_NN_17120.json',\n",
       " 'adult_flare_NN_22540.json',\n",
       " 'adult_flare_NN_3090.json',\n",
       " 'adult_flare_NN_22110.json',\n",
       " 'adult_flare_NN_11220.json',\n",
       " 'adult_flare_NN_19610.json',\n",
       " 'adult_flare_NN_11670.json',\n",
       " 'adult_flare_NN_19240.json',\n",
       " 'adult_flare_NN_4240.json',\n",
       " 'adult_flare_NN_4610.json',\n",
       " 'adult_flare_NN_25790.json',\n",
       " 'adult_flare_NN_21550.json',\n",
       " 'adult_flare_NN_25840.json',\n",
       " 'adult_flare_NN_21100.json',\n",
       " 'adult_flare_NN_12230.json',\n",
       " 'adult_flare_NN_12660.json',\n",
       " 'adult_flare_NN_7250.json',\n",
       " 'adult_flare_NN_7600.json',\n",
       " 'adult_flare_NN_24230.json',\n",
       " 'adult_flare_NN_24660.json',\n",
       " 'adult_flare_NN_17550.json',\n",
       " 'adult_flare_NN_13840.json',\n",
       " 'adult_flare_NN_17100.json',\n",
       " 'adult_flare_NN_10780.json',\n",
       " 'adult_flare_NN_2530.json',\n",
       " 'adult_flare_NN_6820.json',\n",
       " 'adult_flare_NN_2160.json',\n",
       " 'adult_flare_NN_10850.json',\n",
       " 'adult_flare_NN_14540.json',\n",
       " 'adult_flare_NN_18830.json',\n",
       " 'adult_flare_NN_14110.json',\n",
       " 'adult_flare_NN_830.json',\n",
       " 'adult_flare_NN_13790.json',\n",
       " 'adult_flare_NN_5830.json',\n",
       " 'adult_flare_NN_1520.json',\n",
       " 'adult_flare_NN_9110.json',\n",
       " 'adult_flare_NN_1170.json',\n",
       " 'adult_flare_NN_9540.json',\n",
       " 'adult_flare_NN_15490.json',\n",
       " 'adult_flare_NN_11980.json',\n",
       " 'adult_flare_NN_7270.json',\n",
       " 'adult_flare_NN_7620.json',\n",
       " 'adult_flare_NN_21570.json',\n",
       " 'adult_flare_NN_25860.json',\n",
       " 'adult_flare_NN_21120.json',\n",
       " 'adult_flare_NN_8490.json',\n",
       " 'adult_flare_NN_12210.json',\n",
       " 'adult_flare_NN_12640.json',\n",
       " 'adult_flare_NN_12990.json',\n",
       " 'adult_flare_NN_16480.json',\n",
       " 'adult_flare_NN_4260.json',\n",
       " 'adult_flare_NN_4630.json',\n",
       " 'adult_flare_NN_22560.json',\n",
       " 'adult_flare_NN_22130.json',\n",
       " 'adult_flare_NN_11200.json',\n",
       " 'adult_flare_NN_19630.json',\n",
       " 'adult_flare_NN_11650.json',\n",
       " 'adult_flare_NN_19260.json',\n",
       " 'adult_flare_NN_16300.json',\n",
       " 'adult_flare_NN_16750.json',\n",
       " 'adult_flare_NN_21970.json',\n",
       " 'adult_flare_NN_25460.json',\n",
       " 'adult_flare_NN_8890.json',\n",
       " 'adult_flare_NN_25030.json',\n",
       " 'adult_flare_NN_3360.json',\n",
       " 'adult_flare_NN_3730.json',\n",
       " 'adult_flare_NN_15890.json',\n",
       " 'adult_flare_NN_11580.json',\n",
       " 'adult_flare_NN_15310.json',\n",
       " 'adult_flare_NN_15740.json',\n",
       " 'adult_flare_NN_22960.json',\n",
       " 'adult_flare_NN_26020.json',\n",
       " 'adult_flare_NN_8740.json',\n",
       " 'adult_flare_NN_8310.json',\n",
       " 'adult_flare_NN_12590.json',\n",
       " 'adult_flare_NN_16880.json',\n",
       " 'adult_flare_NN_2930.json',\n",
       " 'adult_flare_NN_6420.json',\n",
       " 'adult_flare_NN_6070.json',\n",
       " 'adult_flare_NN_14690.json',\n",
       " 'adult_flare_NN_17950.json',\n",
       " 'adult_flare_NN_30.json',\n",
       " 'adult_flare_NN_13440.json',\n",
       " 'adult_flare_NN_13010.json',\n",
       " 'adult_flare_NN_9690.json',\n",
       " 'adult_flare_NN_20320.json',\n",
       " 'adult_flare_NN_20770.json',\n",
       " 'adult_flare_NN_5430.json',\n",
       " 'adult_flare_NN_1920.json',\n",
       " 'adult_flare_NN_5060.json',\n",
       " 'adult_flare_NN_9940.json',\n",
       " 'adult_flare_NN_430.json',\n",
       " 'adult_flare_NN_17680.json',\n",
       " 'adult_flare_NN_18060.json',\n",
       " 'adult_flare_NN_10450.json',\n",
       " 'adult_flare_NN_14940.json',\n",
       " 'adult_flare_NN_18430.json',\n",
       " 'adult_flare_NN_10000.json',\n",
       " 'adult_flare_NN_23330.json',\n",
       " 'adult_flare_NN_23760.json',\n",
       " 'adult_flare_NN_8500.json',\n",
       " 'adult_flare_NN_4870.json',\n",
       " 'adult_flare_NN_8150.json',\n",
       " 'adult_flare_NN_12380.json',\n",
       " 'adult_flare_NN_19870.json',\n",
       " 'adult_flare_NN_15150.json',\n",
       " 'adult_flare_NN_11810.json',\n",
       " 'adult_flare_NN_15500.json',\n",
       " 'adult_flare_NN_3120.json',\n",
       " 'adult_flare_NN_3570.json',\n",
       " 'adult_flare_NN_7860.json',\n",
       " 'adult_flare_NN_11390.json',\n",
       " 'adult_flare_NN_16140.json',\n",
       " 'adult_flare_NN_16510.json',\n",
       " 'adult_flare_NN_12800.json',\n",
       " 'adult_flare_NN_25620.json',\n",
       " 'adult_flare_NN_25270.json',\n",
       " 'adult_flare_NN_18220.json',\n",
       " 'adult_flare_NN_10610.json',\n",
       " 'adult_flare_NN_18670.json',\n",
       " 'adult_flare_NN_10240.json',\n",
       " 'adult_flare_NN_23170.json',\n",
       " 'adult_flare_NN_23520.json',\n",
       " 'adult_flare_NN_5670.json',\n",
       " 'adult_flare_NN_5220.json',\n",
       " 'adult_flare_NN_670.json',\n",
       " 'adult_flare_NN_17090.json',\n",
       " 'adult_flare_NN_220.json',\n",
       " 'adult_flare_NN_13600.json',\n",
       " 'adult_flare_NN_13250.json',\n",
       " 'adult_flare_NN_20160.json',\n",
       " 'adult_flare_NN_9080.json',\n",
       " 'adult_flare_NN_20530.json',\n",
       " 'adult_flare_NN_24820.json',\n",
       " 'adult_flare_NN_6660.json',\n",
       " 'adult_flare_NN_6230.json',\n",
       " 'adult_flare_NN_14080.json',\n",
       " 'adult_flare_NN_13180.json',\n",
       " 'adult_flare_NN_1760.json',\n",
       " 'adult_flare_NN_9350.json',\n",
       " 'adult_flare_NN_1330.json',\n",
       " 'adult_flare_NN_9700.json',\n",
       " 'adult_flare_NN_23920.json',\n",
       " 'adult_flare_NN_14700.json',\n",
       " 'adult_flare_NN_14350.json',\n",
       " 'adult_flare_NN_10190.json',\n",
       " 'adult_flare_NN_2770.json',\n",
       " 'adult_flare_NN_2320.json',\n",
       " 'adult_flare_NN_24070.json',\n",
       " 'adult_flare_NN_20930.json',\n",
       " 'adult_flare_NN_24420.json',\n",
       " 'adult_flare_NN_17710.json',\n",
       " 'adult_flare_NN_17340.json',\n",
       " 'adult_flare_NN_22720.json',\n",
       " 'adult_flare_NN_22370.json',\n",
       " 'adult_flare_NN_11040.json',\n",
       " 'adult_flare_NN_19470.json',\n",
       " 'adult_flare_NN_11410.json',\n",
       " 'adult_flare_NN_19020.json',\n",
       " 'adult_flare_NN_15900.json',\n",
       " 'adult_flare_NN_16290.json',\n",
       " 'adult_flare_NN_4020.json',\n",
       " 'adult_flare_NN_8900.json',\n",
       " 'adult_flare_NN_4470.json',\n",
       " 'adult_flare_NN_21730.json',\n",
       " 'adult_flare_NN_8280.json',\n",
       " 'adult_flare_NN_21360.json',\n",
       " 'adult_flare_NN_12050.json',\n",
       " 'adult_flare_NN_16910.json',\n",
       " 'adult_flare_NN_12400.json',\n",
       " 'adult_flare_NN_15280.json',\n",
       " 'adult_flare_NN_7030.json',\n",
       " 'adult_flare_NN_3970.json',\n",
       " 'adult_flare_NN_7460.json',\n",
       " 'adult_flare_NN_18790.json',\n",
       " 'adult_flare_NN_23090.json',\n",
       " 'adult_flare_NN_2110.json',\n",
       " 'adult_flare_NN_2540.json',\n",
       " 'adult_flare_NN_6850.json',\n",
       " 'adult_flare_NN_24610.json',\n",
       " 'adult_flare_NN_5790.json',\n",
       " 'adult_flare_NN_24240.json',\n",
       " 'adult_flare_NN_17170.json',\n",
       " 'adult_flare_NN_790.json',\n",
       " 'adult_flare_NN_17520.json',\n",
       " 'adult_flare_NN_13830.json',\n",
       " 'adult_flare_NN_840.json',\n",
       " 'adult_flare_NN_9530.json',\n",
       " 'adult_flare_NN_1100.json',\n",
       " 'adult_flare_NN_20080.json',\n",
       " 'adult_flare_NN_5840.json',\n",
       " 'adult_flare_NN_9160.json',\n",
       " 'adult_flare_NN_1550.json',\n",
       " 'adult_flare_NN_6780.json',\n",
       " 'adult_flare_NN_18840.json',\n",
       " 'adult_flare_NN_14160.json',\n",
       " 'adult_flare_NN_10820.json',\n",
       " 'adult_flare_NN_14530.json',\n",
       " 'adult_flare_NN_21150.json',\n",
       " 'adult_flare_NN_21500.json',\n",
       " 'adult_flare_NN_4990.json',\n",
       " 'adult_flare_NN_25810.json',\n",
       " 'adult_flare_NN_12630.json',\n",
       " 'adult_flare_NN_12260.json',\n",
       " 'adult_flare_NN_19990.json',\n",
       " 'adult_flare_NN_7650.json',\n",
       " 'adult_flare_NN_7200.json',\n",
       " 'adult_flare_NN_22140.json',\n",
       " 'adult_flare_NN_7980.json',\n",
       " 'adult_flare_NN_22510.json',\n",
       " 'adult_flare_NN_3490.json',\n",
       " 'adult_flare_NN_19210.json',\n",
       " 'adult_flare_NN_11620.json',\n",
       " 'adult_flare_NN_19640.json',\n",
       " 'adult_flare_NN_11270.json',\n",
       " 'adult_flare_NN_4640.json',\n",
       " 'adult_flare_NN_25390.json',\n",
       " 'adult_flare_NN_4210.json',\n",
       " 'adult_flare_NN_3740.json',\n",
       " 'adult_flare_NN_22290.json',\n",
       " 'adult_flare_NN_3310.json',\n",
       " 'adult_flare_NN_19590.json',\n",
       " 'adult_flare_NN_16720.json',\n",
       " 'adult_flare_NN_16370.json',\n",
       " 'adult_flare_NN_25040.json',\n",
       " 'adult_flare_NN_21900.json',\n",
       " 'adult_flare_NN_25410.json',\n",
       " 'adult_flare_NN_4590.json',\n",
       " 'adult_flare_NN_8360.json',\n",
       " 'adult_flare_NN_21280.json',\n",
       " 'adult_flare_NN_8730.json',\n",
       " 'adult_flare_NN_15730.json',\n",
       " 'adult_flare_NN_15360.json',\n",
       " 'adult_flare_NN_7580.json',\n",
       " 'adult_flare_NN_3890.json',\n",
       " 'adult_flare_NN_22910.json',\n",
       " 'adult_flare_NN_13060.json',\n",
       " 'adult_flare_NN_17920.json',\n",
       " 'adult_flare_NN_40.json',\n",
       " 'adult_flare_NN_13430.json',\n",
       " 'adult_flare_NN_1680.json',\n",
       " 'adult_flare_NN_20700.json',\n",
       " 'adult_flare_NN_20350.json',\n",
       " 'adult_flare_NN_6000.json',\n",
       " 'adult_flare_NN_2940.json',\n",
       " 'adult_flare_NN_6450.json',\n",
       " 'adult_flare_NN_10070.json',\n",
       " 'adult_flare_NN_18440.json',\n",
       " 'adult_flare_NN_10420.json',\n",
       " 'adult_flare_NN_18010.json',\n",
       " 'adult_flare_NN_14930.json',\n",
       " 'adult_flare_NN_23710.json',\n",
       " 'adult_flare_NN_2690.json',\n",
       " 'adult_flare_NN_23340.json',\n",
       " 'adult_flare_NN_24190.json',\n",
       " 'adult_flare_NN_5010.json',\n",
       " 'adult_flare_NN_9930.json',\n",
       " 'adult_flare_NN_5440.json',\n",
       " 'adult_flare_NN_1950.json',\n",
       " 'adult_flare_NN_440.json',\n",
       " 'adult_flare_NN_11860.json',\n",
       " 'adult_flare_NN_15570.json',\n",
       " 'adult_flare_NN_19800.json',\n",
       " 'adult_flare_NN_15120.json',\n",
       " 'adult_flare_NN_7390.json',\n",
       " 'adult_flare_NN_25980.json',\n",
       " 'adult_flare_NN_4800.json',\n",
       " 'adult_flare_NN_21490.json',\n",
       " 'adult_flare_NN_8120.json',\n",
       " 'adult_flare_NN_8570.json',\n",
       " 'adult_flare_NN_16560.json',\n",
       " 'adult_flare_NN_12870.json',\n",
       " 'adult_flare_NN_16130.json',\n",
       " 'adult_flare_NN_4380.json',\n",
       " 'adult_flare_NN_25200.json',\n",
       " 'adult_flare_NN_25650.json',\n",
       " 'adult_flare_NN_3500.json',\n",
       " 'adult_flare_NN_22480.json',\n",
       " 'adult_flare_NN_7810.json',\n",
       " 'adult_flare_NN_3150.json',\n",
       " 'adult_flare_NN_19380.json',\n",
       " 'adult_flare_NN_5250.json',\n",
       " 'adult_flare_NN_5600.json',\n",
       " 'adult_flare_NN_24780.json',\n",
       " 'adult_flare_NN_250.json',\n",
       " 'adult_flare_NN_600.json',\n",
       " 'adult_flare_NN_10230.json',\n",
       " 'adult_flare_NN_18600.json',\n",
       " 'adult_flare_NN_10660.json',\n",
       " 'adult_flare_NN_18250.json',\n",
       " 'adult_flare_NN_23550.json',\n",
       " 'adult_flare_NN_2080.json',\n",
       " 'adult_flare_NN_23100.json',\n",
       " 'adult_flare_NN_6240.json',\n",
       " 'adult_flare_NN_6610.json',\n",
       " 'adult_flare_NN_13220.json',\n",
       " 'adult_flare_NN_13670.json',\n",
       " 'adult_flare_NN_20540.json',\n",
       " 'adult_flare_NN_24850.json',\n",
       " 'adult_flare_NN_20110.json',\n",
       " 'adult_flare_NN_1090.json',\n",
       " 'adult_flare_NN_23950.json',\n",
       " 'adult_flare_NN_6190.json',\n",
       " 'adult_flare_NN_14320.json',\n",
       " 'adult_flare_NN_14770.json',\n",
       " 'adult_flare_NN_9770.json',\n",
       " 'adult_flare_NN_1340.json',\n",
       " 'adult_flare_NN_9320.json',\n",
       " 'adult_flare_NN_20690.json',\n",
       " 'adult_flare_NN_1710.json',\n",
       " 'adult_flare_NN_20940.json',\n",
       " 'adult_flare_NN_24450.json',\n",
       " 'adult_flare_NN_5180.json',\n",
       " 'adult_flare_NN_24000.json',\n",
       " 'adult_flare_NN_17330.json',\n",
       " 'adult_flare_NN_17760.json',\n",
       " 'adult_flare_NN_180.json',\n",
       " 'adult_flare_NN_18180.json',\n",
       " 'adult_flare_NN_2350.json',\n",
       " 'adult_flare_NN_2700.json',\n",
       " 'adult_flare_NN_23680.json',\n",
       " 'adult_flare_NN_4400.json',\n",
       " 'adult_flare_NN_25580.json',\n",
       " 'adult_flare_NN_21890.json',\n",
       " 'adult_flare_NN_4050.json',\n",
       " 'adult_flare_NN_8970.json',\n",
       " 'adult_flare_NN_3280.json',\n",
       " 'adult_flare_NN_22300.json',\n",
       " 'adult_flare_NN_22750.json',\n",
       " 'adult_flare_NN_19050.json',\n",
       " 'adult_flare_NN_11460.json',\n",
       " 'adult_flare_NN_15970.json',\n",
       " 'adult_flare_NN_19400.json',\n",
       " 'adult_flare_NN_11030.json',\n",
       " 'adult_flare_NN_22880.json',\n",
       " 'adult_flare_NN_3900.json',\n",
       " 'adult_flare_NN_7410.json',\n",
       " 'adult_flare_NN_7040.json',\n",
       " 'adult_flare_NN_21310.json',\n",
       " 'adult_flare_NN_21740.json',\n",
       " 'adult_flare_NN_16960.json',\n",
       " 'adult_flare_NN_12470.json',\n",
       " 'adult_flare_NN_12020.json',\n",
       " 'adult_flare_NN_14880.json',\n",
       " 'adult_flare_NN_10590.json',\n",
       " 'adult_flare_NN_2370.json',\n",
       " 'adult_flare_NN_2720.json',\n",
       " 'adult_flare_NN_20960.json',\n",
       " 'adult_flare_NN_24470.json',\n",
       " 'adult_flare_NN_9880.json',\n",
       " 'adult_flare_NN_24020.json',\n",
       " 'adult_flare_NN_17310.json',\n",
       " 'adult_flare_NN_17740.json',\n",
       " 'adult_flare_NN_13580.json',\n",
       " 'adult_flare_NN_17890.json',\n",
       " 'adult_flare_NN_9750.json',\n",
       " 'adult_flare_NN_1360.json',\n",
       " 'adult_flare_NN_9300.json',\n",
       " 'adult_flare_NN_1730.json',\n",
       " 'adult_flare_NN_23970.json',\n",
       " 'adult_flare_NN_14300.json',\n",
       " 'adult_flare_NN_14750.json',\n",
       " 'adult_flare_NN_8680.json',\n",
       " 'adult_flare_NN_21330.json',\n",
       " 'adult_flare_NN_21760.json',\n",
       " 'adult_flare_NN_16940.json',\n",
       " 'adult_flare_NN_12450.json',\n",
       " 'adult_flare_NN_12000.json',\n",
       " 'adult_flare_NN_15680.json',\n",
       " 'adult_flare_NN_3920.json',\n",
       " 'adult_flare_NN_7430.json',\n",
       " 'adult_flare_NN_7060.json',\n",
       " 'adult_flare_NN_22320.json',\n",
       " 'adult_flare_NN_22770.json',\n",
       " 'adult_flare_NN_19070.json',\n",
       " 'adult_flare_NN_11440.json',\n",
       " 'adult_flare_NN_15950.json',\n",
       " 'adult_flare_NN_19420.json',\n",
       " 'adult_flare_NN_11010.json',\n",
       " 'adult_flare_NN_16690.json',\n",
       " 'adult_flare_NN_4420.json',\n",
       " 'adult_flare_NN_4070.json',\n",
       " 'adult_flare_NN_8950.json',\n",
       " 'adult_flare_NN_3520.json',\n",
       " 'adult_flare_NN_7830.json',\n",
       " 'adult_flare_NN_3170.json',\n",
       " 'adult_flare_NN_11790.json',\n",
       " 'adult_flare_NN_16540.json',\n",
       " 'adult_flare_NN_12850.json',\n",
       " 'adult_flare_NN_16110.json',\n",
       " 'adult_flare_NN_25220.json',\n",
       " 'adult_flare_NN_25670.json',\n",
       " 'adult_flare_NN_4820.json',\n",
       " 'adult_flare_NN_8100.json',\n",
       " 'adult_flare_NN_8550.json',\n",
       " 'adult_flare_NN_12780.json',\n",
       " 'adult_flare_NN_11840.json',\n",
       " 'adult_flare_NN_15550.json',\n",
       " 'adult_flare_NN_19820.json',\n",
       " 'adult_flare_NN_15100.json',\n",
       " 'adult_flare_NN_13200.json',\n",
       " 'adult_flare_NN_13650.json',\n",
       " 'adult_flare_NN_20560.json',\n",
       " 'adult_flare_NN_24870.json',\n",
       " 'adult_flare_NN_20130.json',\n",
       " 'adult_flare_NN_9480.json',\n",
       " 'adult_flare_NN_6260.json',\n",
       " 'adult_flare_NN_6630.json',\n",
       " 'adult_flare_NN_14480.json',\n",
       " 'adult_flare_NN_10990.json',\n",
       " 'adult_flare_NN_10210.json',\n",
       " 'adult_flare_NN_18620.json',\n",
       " 'adult_flare_NN_10640.json',\n",
       " 'adult_flare_NN_18270.json',\n",
       " 'adult_flare_NN_23570.json',\n",
       " 'adult_flare_NN_23120.json',\n",
       " 'adult_flare_NN_5270.json',\n",
       " 'adult_flare_NN_5620.json',\n",
       " 'adult_flare_NN_13980.json',\n",
       " 'adult_flare_NN_270.json',\n",
       " 'adult_flare_NN_17490.json',\n",
       " 'adult_flare_NN_620.json',\n",
       " 'adult_flare_NN_15710.json',\n",
       " 'adult_flare_NN_15340.json',\n",
       " 'adult_flare_NN_22930.json',\n",
       " 'adult_flare_NN_8340.json',\n",
       " 'adult_flare_NN_8710.json',\n",
       " 'adult_flare_NN_12190.json',\n",
       " 'adult_flare_NN_16700.json',\n",
       " 'adult_flare_NN_16350.json',\n",
       " 'adult_flare_NN_25060.json',\n",
       " 'adult_flare_NN_21920.json',\n",
       " 'adult_flare_NN_25430.json',\n",
       " 'adult_flare_NN_3760.json',\n",
       " 'adult_flare_NN_3330.json',\n",
       " 'adult_flare_NN_11180.json',\n",
       " 'adult_flare_NN_5030.json',\n",
       " 'adult_flare_NN_9910.json',\n",
       " 'adult_flare_NN_5460.json',\n",
       " 'adult_flare_NN_1970.json',\n",
       " 'adult_flare_NN_460.json',\n",
       " 'adult_flare_NN_17280.json',\n",
       " 'adult_flare_NN_10050.json',\n",
       " 'adult_flare_NN_18460.json',\n",
       " 'adult_flare_NN_10400.json',\n",
       " 'adult_flare_NN_18030.json',\n",
       " 'adult_flare_NN_14910.json',\n",
       " 'adult_flare_NN_23730.json',\n",
       " 'adult_flare_NN_23360.json',\n",
       " 'adult_flare_NN_6020.json',\n",
       " 'adult_flare_NN_2960.json',\n",
       " 'adult_flare_NN_6470.json',\n",
       " 'adult_flare_NN_14290.json',\n",
       " 'adult_flare_NN_13040.json',\n",
       " 'adult_flare_NN_17900.json',\n",
       " 'adult_flare_NN_60.json',\n",
       " 'adult_flare_NN_13410.json',\n",
       " 'adult_flare_NN_20720.json',\n",
       " 'adult_flare_NN_9290.json',\n",
       " 'adult_flare_NN_20370.json',\n",
       " 'adult_flare_NN_18860.json',\n",
       " 'adult_flare_NN_14140.json',\n",
       " 'adult_flare_NN_10800.json',\n",
       " 'adult_flare_NN_14510.json',\n",
       " 'adult_flare_NN_13390.json',\n",
       " 'adult_flare_NN_860.json',\n",
       " 'adult_flare_NN_9510.json',\n",
       " 'adult_flare_NN_1120.json',\n",
       " 'adult_flare_NN_5860.json',\n",
       " 'adult_flare_NN_9140.json',\n",
       " 'adult_flare_NN_1570.json',\n",
       " 'adult_flare_NN_24630.json',\n",
       " 'adult_flare_NN_24260.json',\n",
       " 'adult_flare_NN_17150.json',\n",
       " 'adult_flare_NN_17500.json',\n",
       " 'adult_flare_NN_13810.json',\n",
       " 'adult_flare_NN_10380.json',\n",
       " 'adult_flare_NN_2130.json',\n",
       " 'adult_flare_NN_2560.json',\n",
       " 'adult_flare_NN_6870.json',\n",
       " 'adult_flare_NN_16080.json',\n",
       " 'adult_flare_NN_4660.json',\n",
       " 'adult_flare_NN_4230.json',\n",
       " 'adult_flare_NN_22160.json',\n",
       " 'adult_flare_NN_22530.json',\n",
       " 'adult_flare_NN_19230.json',\n",
       " 'adult_flare_NN_11600.json',\n",
       " 'adult_flare_NN_19660.json',\n",
       " 'adult_flare_NN_11250.json',\n",
       " 'adult_flare_NN_15090.json',\n",
       " 'adult_flare_NN_7670.json',\n",
       " 'adult_flare_NN_7220.json',\n",
       " 'adult_flare_NN_21170.json',\n",
       " 'adult_flare_NN_8090.json',\n",
       " 'adult_flare_NN_21520.json',\n",
       " 'adult_flare_NN_25830.json',\n",
       " 'adult_flare_NN_12610.json',\n",
       " 'adult_flare_NN_12240.json',\n",
       " 'adult_flare_NN_6060.json',\n",
       " 'adult_flare_NN_2920.json',\n",
       " 'adult_flare_NN_6430.json',\n",
       " 'adult_flare_NN_14680.json',\n",
       " 'adult_flare_NN_13000.json',\n",
       " 'adult_flare_NN_20.json',\n",
       " 'adult_flare_NN_17940.json',\n",
       " 'adult_flare_NN_13450.json',\n",
       " 'adult_flare_NN_20760.json',\n",
       " 'adult_flare_NN_20330.json',\n",
       " 'adult_flare_NN_9680.json',\n",
       " 'adult_flare_NN_5070.json',\n",
       " 'adult_flare_NN_9950.json',\n",
       " 'adult_flare_NN_5420.json',\n",
       " 'adult_flare_NN_1930.json',\n",
       " 'adult_flare_NN_17690.json',\n",
       " 'adult_flare_NN_420.json',\n",
       " 'adult_flare_NN_10010.json',\n",
       " 'adult_flare_NN_18420.json',\n",
       " 'adult_flare_NN_10440.json',\n",
       " 'adult_flare_NN_18070.json',\n",
       " 'adult_flare_NN_14950.json',\n",
       " 'adult_flare_NN_23770.json',\n",
       " ...]"
      ]
     },
     "execution_count": 32,
     "metadata": {},
     "output_type": "execute_result"
    }
   ],
   "source": [
    "onlyfiles"
   ]
  },
  {
   "cell_type": "code",
   "execution_count": 42,
   "metadata": {},
   "outputs": [],
   "source": [
    "ds = 'adult'\n",
    "ruleset = []\n",
    "for file in onlyfiles:\n",
    "    with open(join(my_path, file), 'r') as f:\n",
    "        ruleset += json.load(f)\n",
    "\n",
    "if n_explanations > len(ruleset):\n",
    "    n_explanations = len(ruleset)\n",
    "ruleset = random.sample(ruleset, n_explanations)\n",
    "\n",
    "dataset = DATASETS[ds](normalize=True)\n",
    "class_name = dataset['class_name']\n",
    "\n",
    "df = dataset['df']\n",
    "X = df.drop(class_name, axis=1)\n",
    "y = df[class_name]\n",
    "X_train, X_test, y_train, y_test = train_test_split(X, y, train_size=0.8, random_state=42)\n",
    "\n",
    "antecedent_order = {v: k for k, v in dataset['idx_features'].items()}\n",
    "dataset_info = {\n",
    "    'antecedent_order': antecedent_order,\n",
    "    'discrete': set(dataset['discrete']),\n",
    "    'continuous': set(dataset['continuous'])\n",
    "}"
   ]
  },
  {
   "cell_type": "code",
   "execution_count": 35,
   "metadata": {},
   "outputs": [],
   "source": [
    "flocal = FLocalX.from_json(ruleset, dataset_info, ['similar_rule_fusion'])"
   ]
  },
  {
   "cell_type": "code",
   "execution_count": 36,
   "metadata": {},
   "outputs": [
    {
     "data": {
      "text/plain": [
       "(121, 2.4297520661157024)"
      ]
     },
     "execution_count": 36,
     "metadata": {},
     "output_type": "execute_result"
    }
   ],
   "source": [
    "flocal.size(), flocal.rule_size()"
   ]
  },
  {
   "cell_type": "code",
   "execution_count": 43,
   "metadata": {},
   "outputs": [],
   "source": [
    "continuous = dataset['continuous']  \n",
    "discrete = dataset['discrete']\n",
    "\n",
    "X_num = X_train[continuous]\n",
    "\n",
    "fuzzy_points = get_fuzzy_points('equal_width', continuous, X_num, sets=5)\n",
    "cate = [col for col in discrete if col != class_name]\n",
    "\n",
    "discrete_fuzzy_values = {col: X_train[col].unique() for col in cate}\n",
    "fuzzy_variables_order = {col: i for i, col in enumerate(X_train.columns)}\n",
    "fuzzy_variables = get_fuzzy_variables(fuzzy_points, discrete_fuzzy_values, fuzzy_variables_order)\n"
   ]
  },
  {
   "cell_type": "code",
   "execution_count": 48,
   "metadata": {},
   "outputs": [
    {
     "data": {
      "text/plain": [
       "FuzzyVariable(name='occupation', fuzzy_sets=[FuzzyDiscreteSet(name='Prof-specialty', value='Prof-specialty'), FuzzyDiscreteSet(name='Exec-managerial', value='Exec-managerial'), FuzzyDiscreteSet(name='Craft-repair', value='Craft-repair'), FuzzyDiscreteSet(name='Farming-fishing', value='Farming-fishing'), FuzzyDiscreteSet(name='Other-service', value='Other-service'), FuzzyDiscreteSet(name='Machine-op-inspct', value='Machine-op-inspct'), FuzzyDiscreteSet(name='Sales', value='Sales'), FuzzyDiscreteSet(name='Handlers-cleaners', value='Handlers-cleaners'), FuzzyDiscreteSet(name='Transport-moving', value='Transport-moving'), FuzzyDiscreteSet(name='Protective-serv', value='Protective-serv'), FuzzyDiscreteSet(name='Adm-clerical', value='Adm-clerical'), FuzzyDiscreteSet(name='Priv-house-serv', value='Priv-house-serv'), FuzzyDiscreteSet(name='Tech-support', value='Tech-support'), FuzzyDiscreteSet(name='Armed-Forces', value='Armed-Forces')])"
      ]
     },
     "execution_count": 48,
     "metadata": {},
     "output_type": "execute_result"
    }
   ],
   "source": [
    "fuzzy_variables[4]"
   ]
  },
  {
   "cell_type": "code",
   "execution_count": 62,
   "metadata": {},
   "outputs": [
    {
     "data": {
      "text/plain": [
       "121"
      ]
     },
     "execution_count": 62,
     "metadata": {},
     "output_type": "execute_result"
    }
   ],
   "source": [
    "len(flocal.rules)"
   ]
  },
  {
   "cell_type": "code",
   "execution_count": 63,
   "metadata": {},
   "outputs": [
    {
     "data": {
      "text/plain": [
       "90"
      ]
     },
     "execution_count": 63,
     "metadata": {},
     "output_type": "execute_result"
    }
   ],
   "source": [
    "len(map_to_new_fuzzy_variables(flocal.rules, fuzzy_variables))"
   ]
  },
  {
   "cell_type": "code",
   "execution_count": null,
   "metadata": {},
   "outputs": [
    {
     "name": "stdout",
     "output_type": "stream",
     "text": [
      "{1: 151.40400667088687, 0: 548.2334096159361}\n"
     ]
    },
    {
     "data": {
      "text/plain": [
       "0.75"
      ]
     },
     "execution_count": 17,
     "metadata": {},
     "output_type": "execute_result"
    }
   ],
   "source": [
    "flocal.score(X_df.iloc[0:100], dataset['y'][0:100])"
   ]
  },
  {
   "cell_type": "code",
   "execution_count": null,
   "metadata": {},
   "outputs": [],
   "source": [
    "flocal.fit(X_df.iloc[0:100], dataset['y'][0:100])"
   ]
  },
  {
   "cell_type": "code",
   "execution_count": null,
   "metadata": {},
   "outputs": [
    {
     "data": {
      "text/plain": [
       "(102, 2.4607843137254903)"
      ]
     },
     "execution_count": 19,
     "metadata": {},
     "output_type": "execute_result"
    }
   ],
   "source": [
    "flocal.size(), flocal.rule_size()"
   ]
  },
  {
   "cell_type": "code",
   "execution_count": null,
   "metadata": {},
   "outputs": [
    {
     "name": "stdout",
     "output_type": "stream",
     "text": [
      "{0: 550.8085006585272, 1: 216.37223388081244}\n"
     ]
    },
    {
     "data": {
      "text/plain": [
       "0.75"
      ]
     },
     "execution_count": 20,
     "metadata": {},
     "output_type": "execute_result"
    }
   ],
   "source": [
    "flocal.score(X_df.iloc[0:100], dataset['y'][0:100])"
   ]
  },
  {
   "cell_type": "code",
   "execution_count": null,
   "metadata": {},
   "outputs": [],
   "source": [
    "same_antecedent_rules = flocal._group_rules_by_antecedent()"
   ]
  },
  {
   "cell_type": "code",
   "execution_count": null,
   "metadata": {},
   "outputs": [
    {
     "data": {
      "text/plain": [
       "{((0, 1), 1): [14, 72],\n",
       " ((0,), 1): [18, 35, 39, 46, 62],\n",
       " ((0, 2, 3), 1): [32, 93],\n",
       " ((5, 8), 0): [53, 91],\n",
       " ((0, 2, 11), 1): [61, 90, 100],\n",
       " ((2, 4, 8), 1): [69, 95]}"
      ]
     },
     "execution_count": 22,
     "metadata": {},
     "output_type": "execute_result"
    }
   ],
   "source": [
    "same_antecedent_rules"
   ]
  },
  {
   "cell_type": "code",
   "execution_count": null,
   "metadata": {},
   "outputs": [],
   "source": [
    "    combined_rules = [\n",
    "        [list(flocal.rules)[i] for i in same_antecedent_rules[k]]\n",
    "        for k in same_antecedent_rules\n",
    "    ]"
   ]
  },
  {
   "cell_type": "code",
   "execution_count": null,
   "metadata": {},
   "outputs": [
    {
     "name": "stdout",
     "output_type": "stream",
     "text": [
      "[1.0 : [0 is 1.2769844838173166, 1 is [['Local-gov', True]]] -> 1, 2.0 : [0 is 1.3502970677269004, 1 is [['Private', True]]] -> 1]\n",
      "[2.0 : [0 is 0.2139520171283513] -> 1, 1.0 : [0 is 0.030670557354391753] -> 1, 1.0 : [0 is -0.5558301139222788] -> 1, 1.0 : [0 is 0.47054606081189465] -> 1, 2.0 : [0 is 0.5805149366762704] -> 1]\n",
      "[4.0 : [0 is 0.3605771849475189, 2 is [['Some-college', True], ['Doctorate', True]], 3 is [['Married-civ-spouse', True]]] -> 1, 1.0 : [0 is -0.1892671943743597, 2 is [['Assoc-voc', True]], 3 is [['Married-civ-spouse', True]]] -> 1]\n",
      "[1.0 : [5 is [['Husband', True]], 8 is -0.14592048355885345] -> 0, 2.0 : [5 is [['Not-in-family', True]], 8 is -0.008076831491555012] -> 0]\n",
      "[1.0 : [0 is -0.482517530012695, 2 is [['Bachelors', True]], 11 is [['United-States', True]]] -> 1, 0.9772727272727273 : [0 is -0.042642026555192065, 2 is [['Bachelors', True]], 11 is [['United-States', True]]] -> 1, 1.0 : [0 is 0.2506083090831432, 2 is [['Bachelors', True]], 11 is [['United-States', True]]] -> 1]\n",
      "[0.8558917197452228 : [2 is [['HS-grad', True]], 4 is [['Prof-specialty', True]], 8 is 0.6796519591271177] -> 1, 1.0 : [2 is [['Prof-school', True]], 4 is [['Prof-specialty', True]], 8 is 0.4479717148371888] -> 1]\n"
     ]
    }
   ],
   "source": [
    "for g in combined_rules:\n",
    "    print(g)\n",
    "    flocal._combine_rules_with_same_antecedent([g], X_df.iloc[0:100], dataset['y'][0:100])\n"
   ]
  },
  {
   "cell_type": "code",
   "execution_count": null,
   "metadata": {},
   "outputs": [
    {
     "data": {
      "text/plain": [
       "2.0 : [0 is 1.3502970677269004, 1 is [['Private', True]]] -> 1"
      ]
     },
     "execution_count": 25,
     "metadata": {},
     "output_type": "execute_result"
    }
   ],
   "source": [
    "a, b = combined_rules[0]\n",
    "b"
   ]
  },
  {
   "cell_type": "code",
   "execution_count": null,
   "metadata": {},
   "outputs": [
    {
     "data": {
      "text/plain": [
       "3.0 : [0 is 1.3136407757721085, 1 is [['Local-gov', True], ['Private', True]]] -> 1"
      ]
     },
     "execution_count": 26,
     "metadata": {},
     "output_type": "execute_result"
    }
   ],
   "source": [
    "a.fusion(b)"
   ]
  },
  {
   "cell_type": "code",
   "execution_count": null,
   "metadata": {},
   "outputs": [
    {
     "data": {
      "text/plain": [
       "[[1.0 : [0 is 1.2769844838173166, 1 is [['Local-gov', True]]] -> 1,\n",
       "  2.0 : [0 is 1.3502970677269004, 1 is [['Private', True]]] -> 1],\n",
       " [2.0 : [0 is 0.2139520171283513] -> 1,\n",
       "  1.0 : [0 is 0.030670557354391753] -> 1,\n",
       "  1.0 : [0 is -0.5558301139222788] -> 1,\n",
       "  1.0 : [0 is 0.47054606081189465] -> 1,\n",
       "  2.0 : [0 is 0.5805149366762704] -> 1],\n",
       " [4.0 : [0 is 0.3605771849475189, 2 is [['Some-college', True], ['Doctorate', True]], 3 is [['Married-civ-spouse', True]]] -> 1,\n",
       "  1.0 : [0 is -0.1892671943743597, 2 is [['Assoc-voc', True]], 3 is [['Married-civ-spouse', True]]] -> 1],\n",
       " [1.0 : [5 is [['Husband', True]], 8 is -0.14592048355885345] -> 0,\n",
       "  2.0 : [5 is [['Not-in-family', True]], 8 is -0.008076831491555012] -> 0],\n",
       " [1.0 : [0 is -0.482517530012695, 2 is [['Bachelors', True]], 11 is [['United-States', True]]] -> 1,\n",
       "  0.9772727272727273 : [0 is -0.042642026555192065, 2 is [['Bachelors', True]], 11 is [['United-States', True]]] -> 1,\n",
       "  1.0 : [0 is 0.2506083090831432, 2 is [['Bachelors', True]], 11 is [['United-States', True]]] -> 1],\n",
       " [0.8558917197452228 : [2 is [['HS-grad', True]], 4 is [['Prof-specialty', True]], 8 is 0.6796519591271177] -> 1,\n",
       "  1.0 : [2 is [['Prof-school', True]], 4 is [['Prof-specialty', True]], 8 is 0.4479717148371888] -> 1]]"
      ]
     },
     "execution_count": 27,
     "metadata": {},
     "output_type": "execute_result"
    }
   ],
   "source": [
    "combined_rules"
   ]
  },
  {
   "cell_type": "code",
   "execution_count": null,
   "metadata": {},
   "outputs": [
    {
     "data": {
      "text/plain": [
       "102"
      ]
     },
     "execution_count": 28,
     "metadata": {},
     "output_type": "execute_result"
    }
   ],
   "source": [
    "len(flocal.rules)"
   ]
  },
  {
   "cell_type": "code",
   "execution_count": null,
   "metadata": {},
   "outputs": [
    {
     "name": "stdout",
     "output_type": "stream",
     "text": [
      "{0: 550.8085006585272, 1: 216.37223388081244}\n"
     ]
    },
    {
     "data": {
      "text/plain": [
       "0.75"
      ]
     },
     "execution_count": 29,
     "metadata": {},
     "output_type": "execute_result"
    }
   ],
   "source": [
    "flocal.score(X_df.iloc[0:100], dataset['y'][0:100])"
   ]
  },
  {
   "cell_type": "code",
   "execution_count": null,
   "metadata": {},
   "outputs": [],
   "source": [
    "def get_similar_rules(ruleset, x, lam=0.3):\n",
    "    lam = 0.3\n",
    "    matches = sorted([(i, rule.match(x)) for i, rule in enumerate(ruleset) if rule.match(x) > 0.0001], reverse=True, key=lambda x: x[1])\n",
    "    if not matches:\n",
    "        return []\n",
    "    group = [matches[0][0]]\n",
    "    prev_match = matches[0][1]\n",
    "    for (r, match) in matches[1:]:\n",
    "        factor = prev_match / match\n",
    "        if factor > 1 + lam:\n",
    "            break\n",
    "        group.append(r) \n",
    "    return group"
   ]
  },
  {
   "cell_type": "code",
   "execution_count": null,
   "metadata": {},
   "outputs": [],
   "source": [
    "def group_rules(ruleset, X, lam=0.3):\n",
    "    return [get_similar_rules(ruleset, x, lam) for x in X]"
   ]
  },
  {
   "cell_type": "code",
   "execution_count": null,
   "metadata": {},
   "outputs": [],
   "source": [
    "grouped_rules = group_rules(list(flocal.rules), X_df.to_numpy()[0:100], lam=0.05)"
   ]
  },
  {
   "cell_type": "code",
   "execution_count": null,
   "metadata": {},
   "outputs": [],
   "source": [
    "rule_super_structure = {}\n",
    "rule_list = list(flocal.rules)\n",
    "for group in grouped_rules:\n",
    "    for x in group:\n",
    "        if x not in rule_super_structure:\n",
    "            rule_super_structure[x] = [rule_list[x], {a:1 for a in group if a != x}, 1]\n",
    "        else:\n",
    "            rule_super_structure[x][2] += 1\n",
    "            for a in group:\n",
    "                if a != x:\n",
    "                    if a not in rule_super_structure[x][1]:\n",
    "                        rule_super_structure[x][1][a] = 1\n",
    "                    else:\n",
    "                        rule_super_structure[x][1][a] += 1\n",
    "\n",
    "refined_rule_super_structure = {}\n",
    "min_occur = 3\n",
    "overlap = 0.7\n",
    "\n",
    "for r in rule_super_structure:\n",
    "    if rule_super_structure[r][2] >= min_occur:\n",
    "        closest_rules = {i: v for i, v in rule_super_structure[r][1].items() if overlap <= v / rule_super_structure[r][2]}\n",
    "        if closest_rules:\n",
    "            refined_rule_super_structure[r] = [rule_super_structure[r][0], closest_rules]\n",
    "        "
   ]
  },
  {
   "cell_type": "code",
   "execution_count": null,
   "metadata": {},
   "outputs": [
    {
     "data": {
      "text/plain": [
       "dict_keys([11, 16, 49, 53, 70, 75, 6, 34, 82, 39, 50, 59, 67, 77, 18, 10, 44, 9, 30, 8, 7, 88, 12, 68])"
      ]
     },
     "execution_count": 34,
     "metadata": {},
     "output_type": "execute_result"
    }
   ],
   "source": [
    "refined_rule_super_structure.keys()"
   ]
  },
  {
   "cell_type": "code",
   "execution_count": null,
   "metadata": {},
   "outputs": [],
   "source": [
    "super_grouped_rules = []\n",
    "visited = set([])\n",
    "for r in refined_rule_super_structure:\n",
    "    if r not in visited:\n",
    "        all_r = set([r])\n",
    "        len_all_r = len(all_r)\n",
    "        change = True\n",
    "        while change:\n",
    "            for k in all_r:\n",
    "                if k not in visited:\n",
    "                    try:\n",
    "                        all_r = all_r.union(set(refined_rule_super_structure[k][1].keys()))\n",
    "                    except KeyError:\n",
    "                        pass\n",
    "            if len(all_r) == len_all_r:\n",
    "                change = False\n",
    "            else:\n",
    "                len_all_r = len(all_r)\n",
    "        visited.update(all_r)\n",
    "        super_grouped_rules.append(sorted(list(all_r)))"
   ]
  },
  {
   "cell_type": "code",
   "execution_count": null,
   "metadata": {},
   "outputs": [
    {
     "name": "stdout",
     "output_type": "stream",
     "text": [
      "{67, 68, 70, 6, 8, 9, 10, 11, 75, 77, 7, 12, 16, 82, 88, 30, 34, 39, 44, 49, 50, 53, 59}\n",
      "{70, 75, 16, 49, 53}\n",
      "{34, 6, 16, 49, 82}\n",
      "{16, 49, 39}\n",
      "{67, 68, 6, 7, 8, 9, 10, 12, 77, 16, 82, 88, 30, 34, 44, 49, 50, 53, 59}\n",
      "{18, 62}\n",
      "{16, 49, 10, 53}\n",
      "{16, 44}\n",
      "{16, 9, 49}\n",
      "{67, 77, 16, 49, 59, 30}\n",
      "{8, 16, 49}\n",
      "{16, 49, 88, 7}\n",
      "{7, 12, 16, 49, 88}\n",
      "{34, 68, 6, 7, 16, 49, 82, 88}\n"
     ]
    }
   ],
   "source": [
    "fused = set([])\n",
    "for i, gr in enumerate(super_grouped_rules):\n",
    "    gr = set(gr)\n",
    "    if i not in fused:\n",
    "        for j, ggr in enumerate(super_grouped_rules[i+1:]):\n",
    "            if set(gr).intersection(set(ggr)):\n",
    "                gr.update(set(ggr))\n",
    "                fused.add(j)\n",
    "        fused.add(i)\n",
    "    print(gr)"
   ]
  },
  {
   "cell_type": "code",
   "execution_count": null,
   "metadata": {},
   "outputs": [
    {
     "data": {
      "text/plain": [
       "{6, 7, 16, 34, 49, 68, 82, 88}"
      ]
     },
     "execution_count": 37,
     "metadata": {},
     "output_type": "execute_result"
    }
   ],
   "source": [
    "for k in all_r:\n",
    "    try:\n",
    "        all_r = all_r.union(set(refined_rule_super_structure[k][1].keys()))\n",
    "    except KeyError:\n",
    "        pass\n",
    "all_r"
   ]
  },
  {
   "cell_type": "code",
   "execution_count": null,
   "metadata": {},
   "outputs": [
    {
     "data": {
      "text/plain": [
       "{6, 7, 16, 34, 49, 68, 82, 88}"
      ]
     },
     "execution_count": 38,
     "metadata": {},
     "output_type": "execute_result"
    }
   ],
   "source": [
    "for k in all_r:\n",
    "    try:\n",
    "        all_r = all_r.union(set(refined_rule_super_structure[k][1].keys()))\n",
    "    except KeyError:\n",
    "        pass\n",
    "all_r"
   ]
  },
  {
   "cell_type": "code",
   "execution_count": null,
   "metadata": {},
   "outputs": [],
   "source": [
    "def group_rules_by_antecedent(ruleset):\n",
    "    grouped_rules = {}\n",
    "    for i, rule in enumerate(ruleset):\n",
    "        key = (tuple(sorted([x.variable for x in rule.antecedent])), rule.consequent)\n",
    "        if key not in grouped_rules:\n",
    "            grouped_rules[key] = [i]\n",
    "        else:\n",
    "            grouped_rules[key].append(i)\n",
    "    return {k: v for k, v in grouped_rules.items() if len(v) > 1}"
   ]
  },
  {
   "cell_type": "code",
   "execution_count": null,
   "metadata": {},
   "outputs": [],
   "source": [
    "aggregable_rules = group_rules_by_antecedent(flocal.rules)"
   ]
  },
  {
   "cell_type": "code",
   "execution_count": null,
   "metadata": {},
   "outputs": [
    {
     "data": {
      "text/plain": [
       "102"
      ]
     },
     "execution_count": 41,
     "metadata": {},
     "output_type": "execute_result"
    }
   ],
   "source": [
    "len(flocal.rules)"
   ]
  },
  {
   "cell_type": "code",
   "execution_count": null,
   "metadata": {},
   "outputs": [
    {
     "data": {
      "text/plain": [
       "6"
      ]
     },
     "execution_count": 42,
     "metadata": {},
     "output_type": "execute_result"
    }
   ],
   "source": [
    "len(aggregable_rules)"
   ]
  },
  {
   "cell_type": "code",
   "execution_count": null,
   "metadata": {},
   "outputs": [],
   "source": [
    "def rule_fusion(rule1, rule2):\n",
    "    new_antecedent = []\n",
    "    for a, b in zip(rule1.antecedent, rule2.antecedent):\n",
    "        if isinstance(a, FuzzyAntecedent) and isinstance(b, FuzzyAntecedent):\n",
    "            new_antecedent.append(FuzzyAntecedent(a.variable, FuzzyContinuousSet.merge(a.fuzzy_set, b.fuzzy_set)))\n",
    "        else:\n",
    "            new_antecedent.append(CategoricalAntecedent(a.variable, a.values + b.values, operator='or'))\n",
    "    \n",
    "    return FuzzyRule(new_antecedent, rule1.consequent, rule1.weight + rule2.weight)"
   ]
  },
  {
   "cell_type": "code",
   "execution_count": null,
   "metadata": {},
   "outputs": [],
   "source": [
    "def improves(first, second, fusion, X, y, loss=0.95):\n",
    "    return fusion.confidence(X, y) > loss * max(first.confidence(X, y), second.confidence(X, y))\n"
   ]
  },
  {
   "cell_type": "code",
   "execution_count": null,
   "metadata": {},
   "outputs": [],
   "source": [
    "def fuse_ruleset(ruleset, X, y):\n",
    "    changes = True\n",
    "    i = 0\n",
    "    while changes and len(ruleset) > 1:\n",
    "        # print('Iteration', i)\n",
    "        ruleset = sorted(ruleset, key=lambda x: (x.support(X), x.confidence(X, y)), reverse=True)\n",
    "        # print(ruleset)\n",
    "        first = ruleset.pop(0)\n",
    "        new_ruleset = []\n",
    "        changes = False\n",
    "        while ruleset:\n",
    "            try:\n",
    "                second = ruleset.pop(0)\n",
    "            except:\n",
    "                # print('Breaking')\n",
    "                new_ruleset.append(first)\n",
    "                break\n",
    "            # print(f\"Fusing rules {first} and {second}\")\n",
    "            fusion = rule_fusion(first, second)\n",
    "            if improves(first, second, fusion, X, y):\n",
    "                # print(f'Fusion improves: {fusion}')\n",
    "                changes = True\n",
    "                new_ruleset.append(fusion)\n",
    "                if len(ruleset) > 1:\n",
    "                    first = ruleset.pop(0)\n",
    "                else:\n",
    "                    new_ruleset += ruleset\n",
    "                    break\n",
    "                # print(f'New first: {first}')\n",
    "            else:\n",
    "                if len(ruleset) > 0:\n",
    "                    new_ruleset.append(first)\n",
    "                    first = second\n",
    "                else:\n",
    "                    new_ruleset.append(first)\n",
    "                    new_ruleset.append(second)\n",
    "                    break\n",
    "        \n",
    "        ruleset = new_ruleset\n",
    "        i += 1\n",
    "\n",
    "    return ruleset\n",
    "    "
   ]
  },
  {
   "cell_type": "code",
   "execution_count": null,
   "metadata": {},
   "outputs": [],
   "source": [
    "new_fused_ruleset = [\n",
    "    fuse_ruleset([list(flocal.rules)[i] for i in aggregable_rules[k]], X_df.iloc[0:100], dataset['y'][0:100])\n",
    "    for k in aggregable_rules\n",
    "]"
   ]
  },
  {
   "cell_type": "code",
   "execution_count": null,
   "metadata": {},
   "outputs": [],
   "source": [
    "obsolete_rules = []\n",
    "for k in aggregable_rules:\n",
    "    obsolete_rules += aggregable_rules[k]"
   ]
  },
  {
   "cell_type": "code",
   "execution_count": null,
   "metadata": {},
   "outputs": [],
   "source": [
    "old_ruleset = [r for i, r in enumerate(flocal.rules) if i not in obsolete_rules]"
   ]
  },
  {
   "cell_type": "code",
   "execution_count": null,
   "metadata": {},
   "outputs": [],
   "source": [
    "new_ruleset = []\n",
    "for rule in old_ruleset:\n",
    "    new_ruleset.append(rule)\n",
    "\n",
    "for group in new_fused_ruleset:\n",
    "    for rule in group:\n",
    "        new_ruleset.append(rule)"
   ]
  },
  {
   "cell_type": "code",
   "execution_count": null,
   "metadata": {},
   "outputs": [
    {
     "data": {
      "text/plain": [
       "102"
      ]
     },
     "execution_count": 50,
     "metadata": {},
     "output_type": "execute_result"
    }
   ],
   "source": [
    "len(new_ruleset)"
   ]
  },
  {
   "cell_type": "code",
   "execution_count": null,
   "metadata": {},
   "outputs": [],
   "source": [
    "flocal2 = copy.deepcopy(flocal)"
   ]
  },
  {
   "cell_type": "code",
   "execution_count": null,
   "metadata": {},
   "outputs": [],
   "source": [
    "flocal2.rules = set(new_ruleset)"
   ]
  },
  {
   "cell_type": "code",
   "execution_count": null,
   "metadata": {},
   "outputs": [
    {
     "name": "stdout",
     "output_type": "stream",
     "text": [
      "{0: 30216.548567268816, 1: 9723.962613586245}\n"
     ]
    },
    {
     "data": {
      "text/plain": [
       "0.7558"
      ]
     },
     "execution_count": 53,
     "metadata": {},
     "output_type": "execute_result"
    }
   ],
   "source": [
    "flocal.score(X_df.iloc[0:5000], dataset['y'][0:5000])"
   ]
  },
  {
   "cell_type": "code",
   "execution_count": null,
   "metadata": {},
   "outputs": [
    {
     "name": "stdout",
     "output_type": "stream",
     "text": [
      "{1: 9723.962613586245, 0: 30216.548567268816}\n"
     ]
    },
    {
     "data": {
      "text/plain": [
       "0.7558"
      ]
     },
     "execution_count": 54,
     "metadata": {},
     "output_type": "execute_result"
    }
   ],
   "source": [
    "flocal2.score(X_df.iloc[0:5000], dataset['y'][0:5000])"
   ]
  },
  {
   "cell_type": "code",
   "execution_count": null,
   "metadata": {},
   "outputs": [
    {
     "data": {
      "text/plain": [
       "102"
      ]
     },
     "execution_count": 55,
     "metadata": {},
     "output_type": "execute_result"
    }
   ],
   "source": [
    "len(flocal.rules)"
   ]
  },
  {
   "cell_type": "code",
   "execution_count": null,
   "metadata": {},
   "outputs": [
    {
     "data": {
      "text/plain": [
       "102"
      ]
     },
     "execution_count": 56,
     "metadata": {},
     "output_type": "execute_result"
    }
   ],
   "source": [
    "len(flocal2.rules)"
   ]
  },
  {
   "cell_type": "code",
   "execution_count": null,
   "metadata": {},
   "outputs": [],
   "source": []
  }
 ],
 "metadata": {
  "kernelspec": {
   "display_name": ".venv",
   "language": "python",
   "name": "python3"
  },
  "language_info": {
   "codemirror_mode": {
    "name": "ipython",
    "version": 3
   },
   "file_extension": ".py",
   "mimetype": "text/x-python",
   "name": "python",
   "nbconvert_exporter": "python",
   "pygments_lexer": "ipython3",
   "version": "3.10.9"
  },
  "orig_nbformat": 4
 },
 "nbformat": 4,
 "nbformat_minor": 2
}
